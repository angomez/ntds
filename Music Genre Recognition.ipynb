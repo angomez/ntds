{
 "cells": [
  {
   "cell_type": "code",
   "execution_count": 1,
   "metadata": {},
   "outputs": [],
   "source": [
    "import numpy as np\n",
    "import pandas as pd\n",
    "import matplotlib.pyplot as plt\n",
    "from sklearn.preprocessing import LabelEncoder\n",
    "from sklearn.model_selection import train_test_split\n",
    "from sklearn.preprocessing import MinMaxScaler\n",
    "from sklearn.model_selection import GridSearchCV\n",
    "from sklearn.multiclass import OneVsRestClassifier\n",
    "from sklearn.linear_model import LogisticRegression\n",
    "from sklearn.neural_network import MLPClassifier as mlp\n",
    "from sklearn.ensemble import AdaBoostClassifier as abc\n",
    "from sklearn.neighbors import KNeighborsClassifier as knn\n",
    "from sklearn.svm import SVC as svc"
   ]
  },
  {
   "cell_type": "markdown",
   "metadata": {},
   "source": [
    "# Data Preprocessing"
   ]
  },
  {
   "cell_type": "code",
   "execution_count": 2,
   "metadata": {},
   "outputs": [
    {
     "data": {
      "text/html": [
       "<div>\n",
       "<style scoped>\n",
       "    .dataframe tbody tr th:only-of-type {\n",
       "        vertical-align: middle;\n",
       "    }\n",
       "\n",
       "    .dataframe tbody tr th {\n",
       "        vertical-align: top;\n",
       "    }\n",
       "\n",
       "    .dataframe thead th {\n",
       "        text-align: right;\n",
       "    }\n",
       "</style>\n",
       "<table border=\"1\" class=\"dataframe\">\n",
       "  <thead>\n",
       "    <tr style=\"text-align: right;\">\n",
       "      <th></th>\n",
       "      <th>chroma_cens</th>\n",
       "      <th>chroma_cens.1</th>\n",
       "      <th>chroma_cens.2</th>\n",
       "      <th>chroma_cens.3</th>\n",
       "      <th>chroma_cens.4</th>\n",
       "      <th>chroma_cens.5</th>\n",
       "      <th>chroma_cens.6</th>\n",
       "      <th>chroma_cens.7</th>\n",
       "      <th>chroma_cens.8</th>\n",
       "      <th>chroma_cens.9</th>\n",
       "      <th>...</th>\n",
       "      <th>zcr.5</th>\n",
       "      <th>zcr.6</th>\n",
       "      <th>track_title</th>\n",
       "      <th>track_title</th>\n",
       "      <th>genres</th>\n",
       "      <th>genres_all</th>\n",
       "      <th>target</th>\n",
       "      <th>artist_id</th>\n",
       "      <th>artist_id</th>\n",
       "      <th>name</th>\n",
       "    </tr>\n",
       "    <tr>\n",
       "      <th>track_id</th>\n",
       "      <th></th>\n",
       "      <th></th>\n",
       "      <th></th>\n",
       "      <th></th>\n",
       "      <th></th>\n",
       "      <th></th>\n",
       "      <th></th>\n",
       "      <th></th>\n",
       "      <th></th>\n",
       "      <th></th>\n",
       "      <th></th>\n",
       "      <th></th>\n",
       "      <th></th>\n",
       "      <th></th>\n",
       "      <th></th>\n",
       "      <th></th>\n",
       "      <th></th>\n",
       "      <th></th>\n",
       "      <th></th>\n",
       "      <th></th>\n",
       "      <th></th>\n",
       "    </tr>\n",
       "  </thead>\n",
       "  <tbody>\n",
       "    <tr>\n",
       "      <th>31568</th>\n",
       "      <td>-0.253879</td>\n",
       "      <td>-0.237872</td>\n",
       "      <td>-0.827132</td>\n",
       "      <td>0.164924</td>\n",
       "      <td>0.072617</td>\n",
       "      <td>0.715829</td>\n",
       "      <td>-0.319894</td>\n",
       "      <td>-0.488374</td>\n",
       "      <td>-0.397094</td>\n",
       "      <td>-0.450271</td>\n",
       "      <td>...</td>\n",
       "      <td>3.386286</td>\n",
       "      <td>0.044134</td>\n",
       "      <td>Morning Touches</td>\n",
       "      <td>Morning News</td>\n",
       "      <td>[15, 182]</td>\n",
       "      <td>[182, 15]</td>\n",
       "      <td>Electronic</td>\n",
       "      <td>6611</td>\n",
       "      <td>7797</td>\n",
       "      <td>Nameless Dancers</td>\n",
       "    </tr>\n",
       "    <tr>\n",
       "      <th>101128</th>\n",
       "      <td>-0.483836</td>\n",
       "      <td>-0.321514</td>\n",
       "      <td>-0.141951</td>\n",
       "      <td>-0.451974</td>\n",
       "      <td>-0.631840</td>\n",
       "      <td>-0.472594</td>\n",
       "      <td>1.026899</td>\n",
       "      <td>0.040170</td>\n",
       "      <td>-0.508121</td>\n",
       "      <td>-0.413764</td>\n",
       "      <td>...</td>\n",
       "      <td>4.852969</td>\n",
       "      <td>0.023291</td>\n",
       "      <td>Live on WFMU's Beastin' the Airwaves! with Kei...</td>\n",
       "      <td>Swingin</td>\n",
       "      <td>[25, 85]</td>\n",
       "      <td>[25, 12, 85]</td>\n",
       "      <td>Rock</td>\n",
       "      <td>16156</td>\n",
       "      <td>18168</td>\n",
       "      <td>Flagland</td>\n",
       "    </tr>\n",
       "    <tr>\n",
       "      <th>38314</th>\n",
       "      <td>-0.525965</td>\n",
       "      <td>-0.122689</td>\n",
       "      <td>-0.157177</td>\n",
       "      <td>0.226547</td>\n",
       "      <td>-0.003503</td>\n",
       "      <td>0.915957</td>\n",
       "      <td>-0.012258</td>\n",
       "      <td>0.844315</td>\n",
       "      <td>0.169801</td>\n",
       "      <td>-0.693645</td>\n",
       "      <td>...</td>\n",
       "      <td>0.704593</td>\n",
       "      <td>0.019690</td>\n",
       "      <td>Live at Pacific Parc 08/07/2009</td>\n",
       "      <td>I Hate The Neighbours</td>\n",
       "      <td>[12, 26]</td>\n",
       "      <td>[26, 12]</td>\n",
       "      <td>Rock</td>\n",
       "      <td>7682</td>\n",
       "      <td>9158</td>\n",
       "      <td>Bobbie Peru</td>\n",
       "    </tr>\n",
       "    <tr>\n",
       "      <th>116203</th>\n",
       "      <td>0.204815</td>\n",
       "      <td>1.805994</td>\n",
       "      <td>-0.800902</td>\n",
       "      <td>1.923259</td>\n",
       "      <td>-0.983459</td>\n",
       "      <td>3.362511</td>\n",
       "      <td>-0.587175</td>\n",
       "      <td>-1.001314</td>\n",
       "      <td>0.350301</td>\n",
       "      <td>-1.121838</td>\n",
       "      <td>...</td>\n",
       "      <td>-0.193462</td>\n",
       "      <td>0.019869</td>\n",
       "      <td>Open Road</td>\n",
       "      <td>End of the Road</td>\n",
       "      <td>[12]</td>\n",
       "      <td>[12]</td>\n",
       "      <td>Rock</td>\n",
       "      <td>17889</td>\n",
       "      <td>19472</td>\n",
       "      <td>Squire Tuck</td>\n",
       "    </tr>\n",
       "    <tr>\n",
       "      <th>65453</th>\n",
       "      <td>2.154378</td>\n",
       "      <td>0.796645</td>\n",
       "      <td>0.728458</td>\n",
       "      <td>2.290709</td>\n",
       "      <td>0.778190</td>\n",
       "      <td>1.232334</td>\n",
       "      <td>0.942508</td>\n",
       "      <td>2.938278</td>\n",
       "      <td>0.293847</td>\n",
       "      <td>-0.369958</td>\n",
       "      <td>...</td>\n",
       "      <td>0.317747</td>\n",
       "      <td>0.019635</td>\n",
       "      <td>Put Me Down And Spin Me Around</td>\n",
       "      <td>Crust Dweller</td>\n",
       "      <td>[38]</td>\n",
       "      <td>[38]</td>\n",
       "      <td>Experimental</td>\n",
       "      <td>11789</td>\n",
       "      <td>7135</td>\n",
       "      <td>Bomis Prendin</td>\n",
       "    </tr>\n",
       "  </tbody>\n",
       "</table>\n",
       "<p>5 rows × 526 columns</p>\n",
       "</div>"
      ],
      "text/plain": [
       "          chroma_cens  chroma_cens.1  chroma_cens.2  chroma_cens.3  \\\n",
       "track_id                                                             \n",
       "31568       -0.253879      -0.237872      -0.827132       0.164924   \n",
       "101128      -0.483836      -0.321514      -0.141951      -0.451974   \n",
       "38314       -0.525965      -0.122689      -0.157177       0.226547   \n",
       "116203       0.204815       1.805994      -0.800902       1.923259   \n",
       "65453        2.154378       0.796645       0.728458       2.290709   \n",
       "\n",
       "          chroma_cens.4  chroma_cens.5  chroma_cens.6  chroma_cens.7  \\\n",
       "track_id                                                               \n",
       "31568          0.072617       0.715829      -0.319894      -0.488374   \n",
       "101128        -0.631840      -0.472594       1.026899       0.040170   \n",
       "38314         -0.003503       0.915957      -0.012258       0.844315   \n",
       "116203        -0.983459       3.362511      -0.587175      -1.001314   \n",
       "65453          0.778190       1.232334       0.942508       2.938278   \n",
       "\n",
       "          chroma_cens.8  chroma_cens.9        ...            zcr.5     zcr.6  \\\n",
       "track_id                                      ...                              \n",
       "31568         -0.397094      -0.450271        ...         3.386286  0.044134   \n",
       "101128        -0.508121      -0.413764        ...         4.852969  0.023291   \n",
       "38314          0.169801      -0.693645        ...         0.704593  0.019690   \n",
       "116203         0.350301      -1.121838        ...        -0.193462  0.019869   \n",
       "65453          0.293847      -0.369958        ...         0.317747  0.019635   \n",
       "\n",
       "                                                track_title  \\\n",
       "track_id                                                      \n",
       "31568                                       Morning Touches   \n",
       "101128    Live on WFMU's Beastin' the Airwaves! with Kei...   \n",
       "38314                       Live at Pacific Parc 08/07/2009   \n",
       "116203                                            Open Road   \n",
       "65453                        Put Me Down And Spin Me Around   \n",
       "\n",
       "                    track_title     genres    genres_all        target  \\\n",
       "track_id                                                                 \n",
       "31568              Morning News  [15, 182]     [182, 15]    Electronic   \n",
       "101128                  Swingin   [25, 85]  [25, 12, 85]          Rock   \n",
       "38314     I Hate The Neighbours   [12, 26]      [26, 12]          Rock   \n",
       "116203          End of the Road       [12]          [12]          Rock   \n",
       "65453             Crust Dweller       [38]          [38]  Experimental   \n",
       "\n",
       "          artist_id  artist_id              name  \n",
       "track_id                                          \n",
       "31568          6611       7797  Nameless Dancers  \n",
       "101128        16156      18168          Flagland  \n",
       "38314          7682       9158       Bobbie Peru  \n",
       "116203        17889      19472       Squire Tuck  \n",
       "65453         11789       7135     Bomis Prendin  \n",
       "\n",
       "[5 rows x 526 columns]"
      ]
     },
     "execution_count": 2,
     "metadata": {},
     "output_type": "execute_result"
    }
   ],
   "source": [
    "data = pd.read_pickle('data_4')\n",
    "data = data.rename(columns = {'genre_top':'target'})\n",
    "data = data.sample(frac=1, random_state=42)\n",
    "data.head()"
   ]
  },
  {
   "cell_type": "markdown",
   "metadata": {},
   "source": [
    "Lets have a look at the distrubution of the labels, i.e, the genres."
   ]
  },
  {
   "cell_type": "code",
   "execution_count": 3,
   "metadata": {},
   "outputs": [],
   "source": [
    "labels = ['Experimental', 'Hip-Hop', 'Electronic', 'Rock']\n",
    "label_ditribution = (data[['name', 'target']].groupby('target').count()/data.shape[0]).T\n",
    "label_ditribution = label_ditribution[labels].T"
   ]
  },
  {
   "cell_type": "code",
   "execution_count": 4,
   "metadata": {},
   "outputs": [
    {
     "data": {
      "image/png": "[encoded data removed]",
      "text/plain": [
       "<Figure size 720x360 with 1 Axes>"
      ]
     },
     "metadata": {
      "needs_background": "light"
     },
     "output_type": "display_data"
    }
   ],
   "source": [
    "label_ditribution.plot(kind='bar', figsize=(10,5))\n",
    "plt.xlabel('labels')\n",
    "plt.ylabel('Proportion of occurence')\n",
    "plt.title('Distribution of labels in the data set')\n",
    "plt.show()"
   ]
  },
  {
   "cell_type": "markdown",
   "metadata": {},
   "source": [
    "As we can see in the plot above, the distribution of labels is far from being balanced. In order to remove the bias, we will balance the labels among the the 4 genres equally."
   ]
  },
  {
   "cell_type": "code",
   "execution_count": 5,
   "metadata": {},
   "outputs": [],
   "source": [
    "#we filter tracks according to their corresponding genres\n",
    "experimental = data[data['target'] == 'Experimental']\n",
    "hip_hop = data[data['target'] == 'Hip-Hop']\n",
    "electro = data[data['target'] == 'Electronic']\n",
    "rock = data[data['target'] == 'Rock']\n",
    "\n",
    "#we take a sample corresponding to the minimum of training examples among all 4 genres\n",
    "n1 = experimental.shape\n",
    "n2 = hip_hop.shape\n",
    "n3 = electro.shape\n",
    "n4 = rock.shape\n",
    "min_samples = min(n1, n2, n3, n4)[0]\n",
    "s1 = experimental.sample(n=min_samples, random_state=42)\n",
    "s2 = electro.sample(n=min_samples, random_state=42)\n",
    "s3 = hip_hop.sample(n=min_samples, random_state=42)\n",
    "s4 = rock.sample(n=min_samples, random_state=42)\n",
    "sampled_data = pd.concat([s1, s2, s3, s4])"
   ]
  },
  {
   "cell_type": "markdown",
   "metadata": {},
   "source": [
    "**Feature Selection and sampling**"
   ]
  },
  {
   "cell_type": "code",
   "execution_count": 6,
   "metadata": {},
   "outputs": [],
   "source": [
    "#List of separated set of features\n",
    "chroma_cens = np.arange(0,84)\n",
    "chroma_cqt = np.arange(84, 168)\n",
    "chroma_stft = np.arange(168, 252)\n",
    "mfcc = np.arange(252, 392)\n",
    "rmse = np.arange(392, 399)\n",
    "spectral_bandwidth = np.arange(399, 406)\n",
    "spectral_centroid = np.arange(406, 413)\n",
    "spectral_contrast = np.arange(413, 462)\n",
    "spectral_rolloff = np.arange(462, 469)\n",
    "tonnetz = np.arange(469, 511)\n",
    "zcr = np.arange(511, 518)\n",
    "all_ = np.arange(0, 518)\n",
    "\n",
    "def select_features(df, indices):\n",
    "    print('New sample with shape {} created and {} labels'.format(np.shape(df.iloc[:,indices]), np.shape(df.loc[:, 'target'])))\n",
    "    return df.iloc[:,indices], df.loc[:,'target']"
   ]
  },
  {
   "cell_type": "code",
   "execution_count": 7,
   "metadata": {},
   "outputs": [],
   "source": [
    "def gen_data(d, ind, size_ratio) : \n",
    "    \n",
    "    d = d.sample(frac=size_ratio, random_state=42)\n",
    "    X, y = select_features(d, ind)\n",
    "    encoder = LabelEncoder() #Used to encode categorical labels\n",
    "    y = encoder.fit_transform(y) \n",
    "    \n",
    "    #Split Data into train and test\n",
    "    X_train, X_test, y_train, y_test = train_test_split(X, y, random_state=42, test_size = 0.1)\n",
    "    \n",
    "    #Normalize data to have them on same scale and to improve performance of ML models\n",
    "    scaler = MinMaxScaler()\n",
    "    X_train = scaler.fit_transform(X_train)\n",
    "    X_test = scaler.transform(X_test)\n",
    "    \n",
    "    return X_train, X_test, y_train, y_test"
   ]
  },
  {
   "cell_type": "markdown",
   "metadata": {},
   "source": [
    "# Hyperparameters Tuning and Models Comparison"
   ]
  },
  {
   "cell_type": "code",
   "execution_count": 8,
   "metadata": {},
   "outputs": [
    {
     "name": "stdout",
     "output_type": "stream",
     "text": [
      "New sample with shape (1197, 518) created and (1197,) labels\n"
     ]
    }
   ],
   "source": [
    "ratio = 0.1 #Small data set for \n",
    "X_train_validate, X_test_validate, y_train_validate, y_test_validate = gen_data(sampled_data, all_, ratio)"
   ]
  },
  {
   "cell_type": "code",
   "execution_count": 9,
   "metadata": {},
   "outputs": [],
   "source": [
    "params = []\n",
    "\n",
    "#logistic Regression\n",
    "log_grid = {'penalty': ['l1','l2'], 'C': [0.001,0.01,0.1,1,10,100,1000]}\n",
    "log_p = (LogisticRegression(random_state=42), log_grid, 'Logistic Regression')\n",
    "params.append(log_p)\n",
    "\n",
    "#K-Nearest Neighbors\n",
    "knn_grid = {'n_neighbors' : [1, 3, 5, 7, 9, 11], 'weights' : ['uniform', 'distance'], 'metric':['euclidean']}\n",
    "knn_p = (knn(), knn_grid, 'K-Nearest Neighbors')\n",
    "params.append(knn_p)\n",
    "\n",
    "#Linear SVC along with OnevsRestClassifier\n",
    "l_svc_grid = {'C' : [0.001, 0.01, 0.1, 1, 10, 100, 1000]}\n",
    "l_svc_p = (svc(kernel='linear', random_state=42), l_svc_grid, 'OneVsRestClassifier with Linear SVC base')\n",
    "params.append(l_svc_p)\n",
    "\n",
    "#SVC with infinite feature MAP (rbf)\n",
    "rbf_grid = {'C' : [0.001, 0.01, 0.1, 1, 10, 100, 1000], 'gamma': [1e-3, 1e-4]}\n",
    "rbf_p = (svc(kernel='rbf',random_state=42), rbf_grid, 'SVC with infinite feature MAP (rbf)')\n",
    "params.append(rbf_p)\n",
    "\n",
    "#Multi-Layer Perceptron\n",
    "mlp_grid = {\n",
    "    'hidden_layer_sizes': [(100,100), (100, 100, 100), (200, 200), (200, 200, 200)],\n",
    "    'activation': ['tanh', 'relu'],\n",
    "    'solver': ['sgd', 'adam'],\n",
    "    'alpha': [0.0001, 0.001, 0.01, 0.1],\n",
    "    'learning_rate': ['constant','adaptive'],\n",
    "}\n",
    "mlp_p = (mlp(max_iter=1000, early_stopping = True), mlp_grid, 'Multi-Layer Perceptron')\n",
    "params.append(mlp_p)"
   ]
  },
  {
   "cell_type": "code",
   "execution_count": 10,
   "metadata": {},
   "outputs": [],
   "source": [
    "def parameters_tuning(model, param_grid, model_name) :\n",
    "    gs = GridSearchCV(model, cv=5, n_jobs=4, param_grid=param_grid)\n",
    "    gs.fit(X_train_validate, y_train_validate)\n",
    "    \n",
    "    # Best parameters set\n",
    "    print('Model : {}'.format(model_name))\n",
    "    print('Best parameters found:\\n', gs.best_params_)\n",
    "    print('Accuracy on training set: {:.2f}'\n",
    "         .format(gs.score(X_train_validate, y_train_validate)))\n",
    "    print('Accuracy on test set: {:.2f}'\n",
    "         .format(gs.score(X_test_validate, y_test_validate)))\n",
    "    \n",
    "    return (model, gs.best_params_, model_name)"
   ]
  },
  {
   "cell_type": "code",
   "execution_count": 11,
   "metadata": {},
   "outputs": [
    {
     "name": "stderr",
     "output_type": "stream",
     "text": [
      "C:\\Anaconda\\envs\\ada\\lib\\site-packages\\sklearn\\linear_model\\logistic.py:433: FutureWarning: Default solver will be changed to 'lbfgs' in 0.22. Specify a solver to silence this warning.\n",
      "  FutureWarning)\n",
      "C:\\Anaconda\\envs\\ada\\lib\\site-packages\\sklearn\\linear_model\\logistic.py:460: FutureWarning: Default multi_class will be changed to 'auto' in 0.22. Specify the multi_class option to silence this warning.\n",
      "  \"this warning.\", FutureWarning)\n"
     ]
    },
    {
     "name": "stdout",
     "output_type": "stream",
     "text": [
      "Model : Logistic Regression\n",
      "Best parameters found:\n",
      " {'C': 1, 'penalty': 'l1'}\n",
      "Accuracy on training set: 0.83\n",
      "Accuracy on test set: 0.63\n",
      "---------------------------------------------\n",
      "Model : K-Nearest Neighbors\n",
      "Best parameters found:\n",
      " {'metric': 'euclidean', 'n_neighbors': 7, 'weights': 'uniform'}\n",
      "Accuracy on training set: 0.68\n",
      "Accuracy on test set: 0.61\n",
      "---------------------------------------------\n",
      "Model : OneVsRestClassifier with Linear SVC base\n",
      "Best parameters found:\n",
      " {'C': 0.1}\n",
      "Accuracy on training set: 0.79\n",
      "Accuracy on test set: 0.62\n",
      "---------------------------------------------\n",
      "Model : SVC with infinite feature MAP (rbf)\n",
      "Best parameters found:\n",
      " {'C': 100, 'gamma': 0.001}\n",
      "Accuracy on training set: 0.83\n",
      "Accuracy on test set: 0.68\n",
      "---------------------------------------------\n"
     ]
    },
    {
     "name": "stderr",
     "output_type": "stream",
     "text": [
      "C:\\Anaconda\\envs\\ada\\lib\\site-packages\\sklearn\\model_selection\\_search.py:841: DeprecationWarning: The default of the `iid` parameter will change from True to False in version 0.22 and will be removed in 0.24. This will change numeric results when test-set sizes are unequal.\n",
      "  DeprecationWarning)\n"
     ]
    },
    {
     "name": "stdout",
     "output_type": "stream",
     "text": [
      "Model : Multi-Layer Perceptron\n",
      "Best parameters found:\n",
      " {'activation': 'tanh', 'alpha': 0.1, 'hidden_layer_sizes': (200, 200), 'learning_rate': 'constant', 'solver': 'adam'}\n",
      "Accuracy on training set: 0.81\n",
      "Accuracy on test set: 0.60\n",
      "---------------------------------------------\n"
     ]
    }
   ],
   "source": [
    "models_parameters = []\n",
    "for i in range(len(params)) :\n",
    "    current = params[i]\n",
    "    md = current[0]\n",
    "    grid = current[1]\n",
    "    name = current[2]\n",
    "    estimator = parameters_tuning(md, grid, name)\n",
    "    models_parameters.append(estimator)\n",
    "    print('---------------------------------------------')"
   ]
  },
  {
   "cell_type": "markdown",
   "metadata": {},
   "source": [
    "# Predictions on full data set"
   ]
  },
  {
   "cell_type": "code",
   "execution_count": 12,
   "metadata": {
    "scrolled": true
   },
   "outputs": [
    {
     "name": "stdout",
     "output_type": "stream",
     "text": [
      "New sample with shape (11968, 518) created and (11968,) labels\n"
     ]
    }
   ],
   "source": [
    "ratio = 1 #Small data set for \n",
    "X_train, X_test, y_train, y_test = gen_data(sampled_data, all_, 1)"
   ]
  },
  {
   "cell_type": "code",
   "execution_count": 13,
   "metadata": {},
   "outputs": [],
   "source": [
    "def make_predictions(model) :\n",
    "    m = model[0]\n",
    "    m.fit(X_train, y_train)\n",
    "    \n",
    "    # Best parameters set\n",
    "    print('Model : {}'.format(model[2]))\n",
    "    print('Accuracy on training set: {:.2f}'\n",
    "         .format(m.score(X_train, y_train)))\n",
    "    print('Accuracy on test set: {:.2f}'\n",
    "         .format(m.score(X_test, y_test)))"
   ]
  },
  {
   "cell_type": "code",
   "execution_count": 14,
   "metadata": {},
   "outputs": [
    {
     "name": "stderr",
     "output_type": "stream",
     "text": [
      "C:\\Anaconda\\envs\\ada\\lib\\site-packages\\sklearn\\linear_model\\logistic.py:433: FutureWarning: Default solver will be changed to 'lbfgs' in 0.22. Specify a solver to silence this warning.\n",
      "  FutureWarning)\n",
      "C:\\Anaconda\\envs\\ada\\lib\\site-packages\\sklearn\\linear_model\\logistic.py:460: FutureWarning: Default multi_class will be changed to 'auto' in 0.22. Specify the multi_class option to silence this warning.\n",
      "  \"this warning.\", FutureWarning)\n"
     ]
    },
    {
     "name": "stdout",
     "output_type": "stream",
     "text": [
      "Model : Logistic Regression\n",
      "Accuracy on training set: 0.77\n",
      "Accuracy on test set: 0.76\n",
      "---------------------------------------------\n",
      "Model : K-Nearest Neighbors\n",
      "Accuracy on training set: 0.77\n",
      "Accuracy on test set: 0.66\n",
      "---------------------------------------------\n",
      "Model : OneVsRestClassifier with Linear SVC base\n",
      "Accuracy on training set: 0.79\n",
      "Accuracy on test set: 0.76\n",
      "---------------------------------------------\n"
     ]
    },
    {
     "name": "stderr",
     "output_type": "stream",
     "text": [
      "C:\\Anaconda\\envs\\ada\\lib\\site-packages\\sklearn\\svm\\base.py:196: FutureWarning: The default value of gamma will change from 'auto' to 'scale' in version 0.22 to account better for unscaled features. Set gamma explicitly to 'auto' or 'scale' to avoid this warning.\n",
      "  \"avoid this warning.\", FutureWarning)\n"
     ]
    },
    {
     "name": "stdout",
     "output_type": "stream",
     "text": [
      "Model : SVC with infinite feature MAP (rbf)\n",
      "Accuracy on training set: 0.68\n",
      "Accuracy on test set: 0.68\n",
      "---------------------------------------------\n",
      "Model : Multi-Layer Perceptron\n",
      "Accuracy on training set: 0.77\n",
      "Accuracy on test set: 0.75\n",
      "---------------------------------------------\n"
     ]
    }
   ],
   "source": [
    "for i in range(len(models_parameters)) :\n",
    "    estimator = models_parameters[i]\n",
    "    make_predictions(estimator)\n",
    "    print('---------------------------------------------')"
   ]
  },
  {
   "cell_type": "code",
   "execution_count": null,
   "metadata": {},
   "outputs": [],
   "source": []
  }
 ],
 "metadata": {
  "kernelspec": {
   "display_name": "Python [conda env:ada]",
   "language": "python",
   "name": "conda-env-ada-py"
  },
  "language_info": {
   "codemirror_mode": {
    "name": "ipython",
    "version": 3
   },
   "file_extension": ".py",
   "mimetype": "text/x-python",
   "name": "python",
   "nbconvert_exporter": "python",
   "pygments_lexer": "ipython3",
   "version": "3.6.6"
  }
 },
 "nbformat": 4,
 "nbformat_minor": 2
}
