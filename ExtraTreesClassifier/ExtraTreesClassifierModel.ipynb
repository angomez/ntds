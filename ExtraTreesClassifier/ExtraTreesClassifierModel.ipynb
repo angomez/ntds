{
 "cells": [
  {
   "cell_type": "markdown",
   "metadata": {},
   "source": [
    "# Extra Trees Classifier Model"
   ]
  },
  {
   "cell_type": "code",
   "execution_count": 17,
   "metadata": {},
   "outputs": [],
   "source": [
    "import numpy as np\n",
    "import pandas as pd\n",
    "import matplotlib.pyplot as plt\n",
    "from scipy.spatial.distance import pdist, squareform #NEED TO CHECK IF WE CAN USE IT"
   ]
  },
  {
   "cell_type": "code",
   "execution_count": 18,
   "metadata": {},
   "outputs": [
    {
     "data": {
      "text/plain": [
       "array(['Hip-Hop', 'Pop', 'Rock', 'Experimental', 'Folk', 'Jazz',\n",
       "       'Electronic', 'International', 'Instrumental', 'Classical'],\n",
       "      dtype=object)"
      ]
     },
     "execution_count": 18,
     "metadata": {},
     "output_type": "execute_result"
    }
   ],
   "source": [
    "import pprint, pickle\n",
    "\n",
    "fmadata=pandas.read_pickle(\"./data.pkl\")\n",
    "fmadata['genre_top'].unique()"
   ]
  },
  {
   "cell_type": "markdown",
   "metadata": {},
   "source": [
    "## MFCCs"
   ]
  },
  {
   "cell_type": "code",
   "execution_count": 19,
   "metadata": {},
   "outputs": [],
   "source": [
    "star=\"\"\n",
    "for i in fmadata.columns: star+=\"'\"+i+\"',\"\n",
    "mfccs = fmadata[['mfcc','mfcc.1','mfcc.2','mfcc.3','mfcc.4','mfcc.5','mfcc.6','mfcc.7','mfcc.8','mfcc.9','mfcc.10','mfcc.11','mfcc.12','mfcc.13','mfcc.14','mfcc.15','mfcc.16','mfcc.17','mfcc.18','mfcc.19','mfcc.20','mfcc.21','mfcc.22','mfcc.23','mfcc.24','mfcc.25','mfcc.26','mfcc.27','mfcc.28','mfcc.29','mfcc.30','mfcc.31','mfcc.32','mfcc.33','mfcc.34','mfcc.35','mfcc.36','mfcc.37','mfcc.38','mfcc.39','mfcc.40','mfcc.41','mfcc.42','mfcc.43','mfcc.44','mfcc.45','mfcc.46','mfcc.47','mfcc.48','mfcc.49','mfcc.50','mfcc.51','mfcc.52','mfcc.53','mfcc.54','mfcc.55','mfcc.56','mfcc.57','mfcc.58','mfcc.59','mfcc.60','mfcc.61','mfcc.62','mfcc.63','mfcc.64','mfcc.65','mfcc.66','mfcc.67','mfcc.68','mfcc.69','mfcc.70','mfcc.71','mfcc.72','mfcc.73','mfcc.74','mfcc.75','mfcc.76','mfcc.77','mfcc.78','mfcc.79','mfcc.80','mfcc.81','mfcc.82','mfcc.83','mfcc.84','mfcc.85','mfcc.86','mfcc.87','mfcc.88','mfcc.89','mfcc.90','mfcc.91','mfcc.92','mfcc.93','mfcc.94','mfcc.95','mfcc.96','mfcc.97','mfcc.98','mfcc.99','mfcc.100','mfcc.101','mfcc.102','mfcc.103','mfcc.104','mfcc.105','mfcc.106','mfcc.107','mfcc.108','mfcc.109','mfcc.110','mfcc.111','mfcc.112','mfcc.113','mfcc.114','mfcc.115','mfcc.116','mfcc.117','mfcc.118','mfcc.119','mfcc.120','mfcc.121','mfcc.122','mfcc.123','mfcc.124','mfcc.125','mfcc.126','mfcc.127','mfcc.128','mfcc.129','mfcc.130','mfcc.131','mfcc.132','mfcc.133','mfcc.134','mfcc.135','mfcc.136','mfcc.137','mfcc.138','mfcc.139','genre_top']]"
   ]
  },
  {
   "cell_type": "code",
   "execution_count": 22,
   "metadata": {},
   "outputs": [
    {
     "name": "stdout",
     "output_type": "stream",
     "text": [
      "0.5795965326527006\n"
     ]
    }
   ],
   "source": [
    "# Extra Trees Classification Tree tests\n",
    "import pandas\n",
    "from sklearn import model_selection\n",
    "from sklearn.ensemble import ExtraTreesClassifier\n",
    "\n",
    "dataframe = mfccs\n",
    "array = dataframe.values[1:]\n",
    "X = array[:,:(len(array[0])-1)]\n",
    "Y = array[:,(len(array[0])-1)]\n",
    "seed = 7\n",
    "num_trees = 10\n",
    "max_features = 140\n",
    "tests=[]\n",
    "kfold = model_selection.KFold(n_splits=10, random_state=seed)\n",
    "for i in range(15):\n",
    "    model = ExtraTreesClassifier(n_estimators=num_trees, max_features=max_features)\n",
    "    results = model_selection.cross_val_score(model, X, Y, cv=kfold)\n",
    "    tests.append(results.mean())\n",
    "    num_trees+=10\n",
    "plt.plot(tests)"
   ]
  },
  {
   "cell_type": "code",
   "execution_count": null,
   "metadata": {},
   "outputs": [],
   "source": [
    "import matplotlib.pyplot as plt\n",
    "a=list(range(10,160,10))\n",
    "plt.plot(a,tests)\n",
    "plt.ylabel('accuracy')\n",
    "plt.xlabel('n_estimators')\n",
    "plt.xlim(10,150)\n",
    "plt.title('Extra Trees Classification with 140 max_features')\n",
    "plt.show()"
   ]
  },
  {
   "cell_type": "code",
   "execution_count": 29,
   "metadata": {},
   "outputs": [
    {
     "data": {
      "text/plain": [
       "[<matplotlib.lines.Line2D at 0x12c0566a0>]"
      ]
     },
     "execution_count": 29,
     "metadata": {},
     "output_type": "execute_result"
    },
    {
     "data": {
      "image/png": "[encoded data removed]",
      "text/plain": [
       "<Figure size 432x288 with 1 Axes>"
      ]
     },
     "metadata": {
      "needs_background": "light"
     },
     "output_type": "display_data"
    }
   ],
   "source": [
    "# Extra Trees Classification\n",
    "import pandas\n",
    "from sklearn import model_selection\n",
    "from sklearn.ensemble import ExtraTreesClassifier\n",
    "\n",
    "dataframe = mfccs\n",
    "array = dataframe.values[1:]\n",
    "X = array[:,:(len(array[0])-1)]\n",
    "Y = array[:,(len(array[0])-1)]\n",
    "seed = 7\n",
    "num_trees = 100\n",
    "max_features = 140\n",
    "tests=[]\n",
    "folds=2\n",
    "for i in range(15):\n",
    "    kfold = model_selection.KFold(n_splits=folds, random_state=seed)\n",
    "    model = ExtraTreesClassifier(n_estimators=num_trees, max_features=max_features)\n",
    "    results = model_selection.cross_val_score(model, X, Y, cv=kfold)\n",
    "    tests.append(results.mean())\n",
    "    folds+=10\n",
    "plt.plot(tests)"
   ]
  },
  {
   "cell_type": "code",
   "execution_count": 28,
   "metadata": {},
   "outputs": [
    {
     "data": {
      "image/png": "[encoded data removed]",
      "text/plain": [
       "<Figure size 432x288 with 1 Axes>"
      ]
     },
     "metadata": {
      "needs_background": "light"
     },
     "output_type": "display_data"
    }
   ],
   "source": [
    "a=list(range(2,92,10))\n",
    "plt.plot(a,tests)\n",
    "plt.ylabel('accuracy')\n",
    "plt.xlabel('folds')\n",
    "plt.xlim(2,92)\n",
    "plt.title('Extra Trees Classification with 140 max_features and 100 estimators')\n",
    "plt.show()"
   ]
  },
  {
   "cell_type": "markdown",
   "metadata": {},
   "source": [
    "## Chromas"
   ]
  },
  {
   "cell_type": "code",
   "execution_count": 36,
   "metadata": {},
   "outputs": [],
   "source": [
    "star=\"\"\n",
    "for i in fmadata.columns: star+=\"'\"+i+\"',\"\n",
    "#print(star)\n",
    "chroma_cens = fmadata[['chroma_cens','chroma_cens.1','chroma_cens.2','chroma_cens.3','chroma_cens.4','chroma_cens.5','chroma_cens.6','chroma_cens.7','chroma_cens.8','chroma_cens.9','chroma_cens.10','chroma_cens.11','chroma_cens.12','chroma_cens.13','chroma_cens.14','chroma_cens.15','chroma_cens.16','chroma_cens.17','chroma_cens.18','chroma_cens.19','chroma_cens.20','chroma_cens.21','chroma_cens.22','chroma_cens.23','chroma_cens.24','chroma_cens.25','chroma_cens.26','chroma_cens.27','chroma_cens.28','chroma_cens.29','chroma_cens.30','chroma_cens.31','chroma_cens.32','chroma_cens.33','chroma_cens.34','chroma_cens.35','chroma_cens.36','chroma_cens.37','chroma_cens.38','chroma_cens.39','chroma_cens.40','chroma_cens.41','chroma_cens.42','chroma_cens.43','chroma_cens.44','chroma_cens.45','chroma_cens.46','chroma_cens.47','chroma_cens.48','chroma_cens.49','chroma_cens.50','chroma_cens.51','chroma_cens.52','chroma_cens.53','chroma_cens.54','chroma_cens.55','chroma_cens.56','chroma_cens.57','chroma_cens.58','chroma_cens.59','chroma_cens.60','chroma_cens.61','chroma_cens.62','chroma_cens.63','chroma_cens.64','chroma_cens.65','chroma_cens.66','chroma_cens.67','chroma_cens.68','chroma_cens.69','chroma_cens.70','chroma_cens.71','chroma_cens.72','chroma_cens.73','chroma_cens.74','chroma_cens.75','chroma_cens.76','chroma_cens.77','chroma_cens.78','chroma_cens.79','chroma_cens.80','chroma_cens.81','chroma_cens.82','chroma_cens.83','genre_top']]"
   ]
  },
  {
   "cell_type": "code",
   "execution_count": 34,
   "metadata": {},
   "outputs": [
    {
     "name": "stdout",
     "output_type": "stream",
     "text": [
      "[0.43371070626139374]\n"
     ]
    }
   ],
   "source": [
    "dataframe = chroma_cens\n",
    "array = dataframe.values[1:]\n",
    "X = array[:,:(len(array[0])-1)]\n",
    "Y = array[:,(len(array[0])-1)]\n",
    "seed = 7\n",
    "num_trees = 100\n",
    "max_features = 84\n",
    "tests=[]\n",
    "kfold = model_selection.KFold(n_splits=10, random_state=seed)\n",
    "for i in range(1):\n",
    "    model = ExtraTreesClassifier(n_estimators=num_trees, max_features=max_features)\n",
    "    results = model_selection.cross_val_score(model, X, Y, cv=kfold)\n",
    "    tests.append(results.mean())\n",
    "    num_trees+=10\n",
    "print(tests)"
   ]
  },
  {
   "cell_type": "markdown",
   "metadata": {},
   "source": [
    "Lower accuracy for chroma_cens only 0.43 with the same parameters"
   ]
  },
  {
   "cell_type": "markdown",
   "metadata": {},
   "source": [
    "## All available numerical parameters"
   ]
  },
  {
   "cell_type": "code",
   "execution_count": 37,
   "metadata": {},
   "outputs": [],
   "source": [
    "#All features\n",
    "all_ft = fmadata[['chroma_cens','chroma_cens.1','chroma_cens.2','chroma_cens.3','chroma_cens.4','chroma_cens.5','chroma_cens.6','chroma_cens.7','chroma_cens.8','chroma_cens.9','chroma_cens.10','chroma_cens.11','chroma_cens.12','chroma_cens.13','chroma_cens.14','chroma_cens.15','chroma_cens.16','chroma_cens.17','chroma_cens.18','chroma_cens.19','chroma_cens.20','chroma_cens.21','chroma_cens.22','chroma_cens.23','chroma_cens.24','chroma_cens.25','chroma_cens.26','chroma_cens.27','chroma_cens.28','chroma_cens.29','chroma_cens.30','chroma_cens.31','chroma_cens.32','chroma_cens.33','chroma_cens.34','chroma_cens.35','chroma_cens.36','chroma_cens.37','chroma_cens.38','chroma_cens.39','chroma_cens.40','chroma_cens.41','chroma_cens.42','chroma_cens.43','chroma_cens.44','chroma_cens.45','chroma_cens.46','chroma_cens.47','chroma_cens.48','chroma_cens.49','chroma_cens.50','chroma_cens.51','chroma_cens.52','chroma_cens.53','chroma_cens.54','chroma_cens.55','chroma_cens.56','chroma_cens.57','chroma_cens.58','chroma_cens.59','chroma_cens.60','chroma_cens.61','chroma_cens.62','chroma_cens.63','chroma_cens.64','chroma_cens.65','chroma_cens.66','chroma_cens.67','chroma_cens.68','chroma_cens.69','chroma_cens.70','chroma_cens.71','chroma_cens.72','chroma_cens.73','chroma_cens.74','chroma_cens.75','chroma_cens.76','chroma_cens.77','chroma_cens.78','chroma_cens.79','chroma_cens.80','chroma_cens.81','chroma_cens.82','chroma_cens.83','chroma_cqt','chroma_cqt.1','chroma_cqt.2','chroma_cqt.3','chroma_cqt.4','chroma_cqt.5','chroma_cqt.6','chroma_cqt.7','chroma_cqt.8','chroma_cqt.9','chroma_cqt.10','chroma_cqt.11','chroma_cqt.12','chroma_cqt.13','chroma_cqt.14','chroma_cqt.15','chroma_cqt.16','chroma_cqt.17','chroma_cqt.18','chroma_cqt.19','chroma_cqt.20','chroma_cqt.21','chroma_cqt.22','chroma_cqt.23','chroma_cqt.24','chroma_cqt.25','chroma_cqt.26','chroma_cqt.27','chroma_cqt.28','chroma_cqt.29','chroma_cqt.30','chroma_cqt.31','chroma_cqt.32','chroma_cqt.33','chroma_cqt.34','chroma_cqt.35','chroma_cqt.36','chroma_cqt.37','chroma_cqt.38','chroma_cqt.39','chroma_cqt.40','chroma_cqt.41','chroma_cqt.42','chroma_cqt.43','chroma_cqt.44','chroma_cqt.45','chroma_cqt.46','chroma_cqt.47','chroma_cqt.48','chroma_cqt.49','chroma_cqt.50','chroma_cqt.51','chroma_cqt.52','chroma_cqt.53','chroma_cqt.54','chroma_cqt.55','chroma_cqt.56','chroma_cqt.57','chroma_cqt.58','chroma_cqt.59','chroma_cqt.60','chroma_cqt.61','chroma_cqt.62','chroma_cqt.63','chroma_cqt.64','chroma_cqt.65','chroma_cqt.66','chroma_cqt.67','chroma_cqt.68','chroma_cqt.69','chroma_cqt.70','chroma_cqt.71','chroma_cqt.72','chroma_cqt.73','chroma_cqt.74','chroma_cqt.75','chroma_cqt.76','chroma_cqt.77','chroma_cqt.78','chroma_cqt.79','chroma_cqt.80','chroma_cqt.81','chroma_cqt.82','chroma_cqt.83','chroma_stft','chroma_stft.1','chroma_stft.2','chroma_stft.3','chroma_stft.4','chroma_stft.5','chroma_stft.6','chroma_stft.7','chroma_stft.8','chroma_stft.9','chroma_stft.10','chroma_stft.11','chroma_stft.12','chroma_stft.13','chroma_stft.14','chroma_stft.15','chroma_stft.16','chroma_stft.17','chroma_stft.18','chroma_stft.19','chroma_stft.20','chroma_stft.21','chroma_stft.22','chroma_stft.23','chroma_stft.24','chroma_stft.25','chroma_stft.26','chroma_stft.27','chroma_stft.28','chroma_stft.29','chroma_stft.30','chroma_stft.31','chroma_stft.32','chroma_stft.33','chroma_stft.34','chroma_stft.35','chroma_stft.36','chroma_stft.37','chroma_stft.38','chroma_stft.39','chroma_stft.40','chroma_stft.41','chroma_stft.42','chroma_stft.43','chroma_stft.44','chroma_stft.45','chroma_stft.46','chroma_stft.47','chroma_stft.48','chroma_stft.49','chroma_stft.50','chroma_stft.51','chroma_stft.52','chroma_stft.53','chroma_stft.54','chroma_stft.55','chroma_stft.56','chroma_stft.57','chroma_stft.58','chroma_stft.59','chroma_stft.60','chroma_stft.61','chroma_stft.62','chroma_stft.63','chroma_stft.64','chroma_stft.65','chroma_stft.66','chroma_stft.67','chroma_stft.68','chroma_stft.69','chroma_stft.70','chroma_stft.71','chroma_stft.72','chroma_stft.73','chroma_stft.74','chroma_stft.75','chroma_stft.76','chroma_stft.77','chroma_stft.78','chroma_stft.79','chroma_stft.80','chroma_stft.81','chroma_stft.82','chroma_stft.83','mfcc','mfcc.1','mfcc.2','mfcc.3','mfcc.4','mfcc.5','mfcc.6','mfcc.7','mfcc.8','mfcc.9','mfcc.10','mfcc.11','mfcc.12','mfcc.13','mfcc.14','mfcc.15','mfcc.16','mfcc.17','mfcc.18','mfcc.19','mfcc.20','mfcc.21','mfcc.22','mfcc.23','mfcc.24','mfcc.25','mfcc.26','mfcc.27','mfcc.28','mfcc.29','mfcc.30','mfcc.31','mfcc.32','mfcc.33','mfcc.34','mfcc.35','mfcc.36','mfcc.37','mfcc.38','mfcc.39','mfcc.40','mfcc.41','mfcc.42','mfcc.43','mfcc.44','mfcc.45','mfcc.46','mfcc.47','mfcc.48','mfcc.49','mfcc.50','mfcc.51','mfcc.52','mfcc.53','mfcc.54','mfcc.55','mfcc.56','mfcc.57','mfcc.58','mfcc.59','mfcc.60','mfcc.61','mfcc.62','mfcc.63','mfcc.64','mfcc.65','mfcc.66','mfcc.67','mfcc.68','mfcc.69','mfcc.70','mfcc.71','mfcc.72','mfcc.73','mfcc.74','mfcc.75','mfcc.76','mfcc.77','mfcc.78','mfcc.79','mfcc.80','mfcc.81','mfcc.82','mfcc.83','mfcc.84','mfcc.85','mfcc.86','mfcc.87','mfcc.88','mfcc.89','mfcc.90','mfcc.91','mfcc.92','mfcc.93','mfcc.94','mfcc.95','mfcc.96','mfcc.97','mfcc.98','mfcc.99','mfcc.100','mfcc.101','mfcc.102','mfcc.103','mfcc.104','mfcc.105','mfcc.106','mfcc.107','mfcc.108','mfcc.109','mfcc.110','mfcc.111','mfcc.112','mfcc.113','mfcc.114','mfcc.115','mfcc.116','mfcc.117','mfcc.118','mfcc.119','mfcc.120','mfcc.121','mfcc.122','mfcc.123','mfcc.124','mfcc.125','mfcc.126','mfcc.127','mfcc.128','mfcc.129','mfcc.130','mfcc.131','mfcc.132','mfcc.133','mfcc.134','mfcc.135','mfcc.136','mfcc.137','mfcc.138','mfcc.139','rmse','rmse.1','rmse.2','rmse.3','rmse.4','rmse.5','rmse.6','spectral_bandwidth','spectral_bandwidth.1','spectral_bandwidth.2','spectral_bandwidth.3','spectral_bandwidth.4','spectral_bandwidth.5','spectral_bandwidth.6','spectral_centroid','spectral_centroid.1','spectral_centroid.2','spectral_centroid.3','spectral_centroid.4','spectral_centroid.5','spectral_centroid.6','spectral_contrast','spectral_contrast.1','spectral_contrast.2','spectral_contrast.3','spectral_contrast.4','spectral_contrast.5','spectral_contrast.6','spectral_contrast.7','spectral_contrast.8','spectral_contrast.9','spectral_contrast.10','spectral_contrast.11','spectral_contrast.12','spectral_contrast.13','spectral_contrast.14','spectral_contrast.15','spectral_contrast.16','spectral_contrast.17','spectral_contrast.18','spectral_contrast.19','spectral_contrast.20','spectral_contrast.21','spectral_contrast.22','spectral_contrast.23','spectral_contrast.24','spectral_contrast.25','spectral_contrast.26','spectral_contrast.27','spectral_contrast.28','spectral_contrast.29','spectral_contrast.30','spectral_contrast.31','spectral_contrast.32','spectral_contrast.33','spectral_contrast.34','spectral_contrast.35','spectral_contrast.36','spectral_contrast.37','spectral_contrast.38','spectral_contrast.39','spectral_contrast.40','spectral_contrast.41','spectral_contrast.42','spectral_contrast.43','spectral_contrast.44','spectral_contrast.45','spectral_contrast.46','spectral_contrast.47','spectral_contrast.48','spectral_rolloff','spectral_rolloff.1','spectral_rolloff.2','spectral_rolloff.3','spectral_rolloff.4','spectral_rolloff.5','spectral_rolloff.6','tonnetz','tonnetz.1','tonnetz.2','tonnetz.3','tonnetz.4','tonnetz.5','tonnetz.6','tonnetz.7','tonnetz.8','tonnetz.9','tonnetz.10','tonnetz.11','tonnetz.12','tonnetz.13','tonnetz.14','tonnetz.15','tonnetz.16','tonnetz.17','tonnetz.18','tonnetz.19','tonnetz.20','tonnetz.21','tonnetz.22','tonnetz.23','tonnetz.24','tonnetz.25','tonnetz.26','tonnetz.27','tonnetz.28','tonnetz.29','tonnetz.30','tonnetz.31','tonnetz.32','tonnetz.33','tonnetz.34','tonnetz.35','tonnetz.36','tonnetz.37','tonnetz.38','tonnetz.39','tonnetz.40','tonnetz.41','zcr','zcr.1','zcr.2','zcr.3','zcr.4','zcr.5','zcr.6','genre_top']]\n"
   ]
  },
  {
   "cell_type": "code",
   "execution_count": 43,
   "metadata": {},
   "outputs": [
    {
     "data": {
      "text/plain": [
       "[<matplotlib.lines.Line2D at 0x12b740b00>]"
      ]
     },
     "execution_count": 43,
     "metadata": {},
     "output_type": "execute_result"
    },
    {
     "data": {
      "image/png": "[encoded data removed]",
      "text/plain": [
       "<Figure size 432x288 with 1 Axes>"
      ]
     },
     "metadata": {
      "needs_background": "light"
     },
     "output_type": "display_data"
    }
   ],
   "source": [
    "dataframe = all_ft\n",
    "array = dataframe.values[1:]\n",
    "X = array[:,:(len(array[0])-1)]\n",
    "Y = array[:,(len(array[0])-1)]\n",
    "seed = 7\n",
    "num_trees = 10\n",
    "max_features = len(array[0])-1\n",
    "tests=[]\n",
    "kfold = model_selection.KFold(n_splits=10, random_state=seed)\n",
    "for i in range(14):\n",
    "    model = ExtraTreesClassifier(n_estimators=num_trees, max_features=max_features)\n",
    "    results = model_selection.cross_val_score(model, X, Y, cv=kfold)\n",
    "    tests.append(results.mean())\n",
    "    num_trees+=10\n",
    "plt.plot(tests)"
   ]
  },
  {
   "cell_type": "code",
   "execution_count": 48,
   "metadata": {},
   "outputs": [
    {
     "data": {
      "image/png": "[encoded data removed]",
      "text/plain": [
       "<Figure size 432x288 with 1 Axes>"
      ]
     },
     "metadata": {
      "needs_background": "light"
     },
     "output_type": "display_data"
    },
    {
     "name": "stdout",
     "output_type": "stream",
     "text": [
      "Mean accuracy for 518 features, 140 estimators and 10 folds :  0.6139751270652216\n"
     ]
    }
   ],
   "source": [
    "a=list(range(10,150,10))\n",
    "plt.plot(a,tests)\n",
    "plt.ylabel('accuracy')\n",
    "plt.xlabel('n_estimators')\n",
    "plt.xlim(10,150)\n",
    "plt.title('Extra Trees Classification with 518 max_features')\n",
    "plt.show()\n",
    "print(\"Mean accuracy for 518 features, 140 estimators and 10 folds : \",results.mean())"
   ]
  },
  {
   "cell_type": "markdown",
   "metadata": {},
   "source": [
    "## PCA"
   ]
  },
  {
   "cell_type": "code",
   "execution_count": 54,
   "metadata": {},
   "outputs": [
    {
     "data": {
      "text/html": [
       "<div>\n",
       "<style scoped>\n",
       "    .dataframe tbody tr th:only-of-type {\n",
       "        vertical-align: middle;\n",
       "    }\n",
       "\n",
       "    .dataframe tbody tr th {\n",
       "        vertical-align: top;\n",
       "    }\n",
       "\n",
       "    .dataframe thead th {\n",
       "        text-align: right;\n",
       "    }\n",
       "</style>\n",
       "<table border=\"1\" class=\"dataframe\">\n",
       "  <thead>\n",
       "    <tr style=\"text-align: right;\">\n",
       "      <th></th>\n",
       "      <th>0</th>\n",
       "      <th>1</th>\n",
       "      <th>2</th>\n",
       "      <th>3</th>\n",
       "      <th>4</th>\n",
       "      <th>5</th>\n",
       "      <th>6</th>\n",
       "      <th>7</th>\n",
       "      <th>8</th>\n",
       "      <th>9</th>\n",
       "      <th>...</th>\n",
       "      <th>507</th>\n",
       "      <th>508</th>\n",
       "      <th>509</th>\n",
       "      <th>510</th>\n",
       "      <th>511</th>\n",
       "      <th>512</th>\n",
       "      <th>513</th>\n",
       "      <th>514</th>\n",
       "      <th>515</th>\n",
       "      <th>516</th>\n",
       "    </tr>\n",
       "  </thead>\n",
       "  <tbody>\n",
       "    <tr>\n",
       "      <th>0</th>\n",
       "      <td>1.792990</td>\n",
       "      <td>-5.412255</td>\n",
       "      <td>1.992809</td>\n",
       "      <td>-3.961542</td>\n",
       "      <td>-3.453659</td>\n",
       "      <td>1.112720</td>\n",
       "      <td>4.252270</td>\n",
       "      <td>-1.991935</td>\n",
       "      <td>1.292540</td>\n",
       "      <td>-3.874751</td>\n",
       "      <td>...</td>\n",
       "      <td>0.046756</td>\n",
       "      <td>-0.032607</td>\n",
       "      <td>0.026091</td>\n",
       "      <td>-0.036399</td>\n",
       "      <td>0.024107</td>\n",
       "      <td>-0.000511</td>\n",
       "      <td>-0.000086</td>\n",
       "      <td>-0.036036</td>\n",
       "      <td>-0.001703</td>\n",
       "      <td>0.013997</td>\n",
       "    </tr>\n",
       "    <tr>\n",
       "      <th>1</th>\n",
       "      <td>-0.462043</td>\n",
       "      <td>-2.992666</td>\n",
       "      <td>0.684909</td>\n",
       "      <td>-3.392998</td>\n",
       "      <td>-1.336728</td>\n",
       "      <td>-0.253988</td>\n",
       "      <td>2.951924</td>\n",
       "      <td>1.635095</td>\n",
       "      <td>-0.033066</td>\n",
       "      <td>-1.920783</td>\n",
       "      <td>...</td>\n",
       "      <td>0.018210</td>\n",
       "      <td>-0.032708</td>\n",
       "      <td>-0.019769</td>\n",
       "      <td>0.044533</td>\n",
       "      <td>-0.014387</td>\n",
       "      <td>0.019175</td>\n",
       "      <td>-0.000718</td>\n",
       "      <td>-0.002471</td>\n",
       "      <td>0.004257</td>\n",
       "      <td>0.044541</td>\n",
       "    </tr>\n",
       "    <tr>\n",
       "      <th>2</th>\n",
       "      <td>5.594610</td>\n",
       "      <td>1.093078</td>\n",
       "      <td>1.539375</td>\n",
       "      <td>-4.582008</td>\n",
       "      <td>-2.557489</td>\n",
       "      <td>-1.068273</td>\n",
       "      <td>3.426519</td>\n",
       "      <td>-1.932583</td>\n",
       "      <td>0.388793</td>\n",
       "      <td>-3.291451</td>\n",
       "      <td>...</td>\n",
       "      <td>0.008439</td>\n",
       "      <td>-0.004064</td>\n",
       "      <td>-0.010059</td>\n",
       "      <td>0.012108</td>\n",
       "      <td>0.042610</td>\n",
       "      <td>-0.026021</td>\n",
       "      <td>-0.002903</td>\n",
       "      <td>0.009007</td>\n",
       "      <td>-0.023406</td>\n",
       "      <td>0.025322</td>\n",
       "    </tr>\n",
       "    <tr>\n",
       "      <th>3</th>\n",
       "      <td>-1.108521</td>\n",
       "      <td>-6.567402</td>\n",
       "      <td>0.428488</td>\n",
       "      <td>-2.612483</td>\n",
       "      <td>-1.900859</td>\n",
       "      <td>-2.273907</td>\n",
       "      <td>3.778960</td>\n",
       "      <td>0.224840</td>\n",
       "      <td>-1.706479</td>\n",
       "      <td>1.106845</td>\n",
       "      <td>...</td>\n",
       "      <td>-0.001393</td>\n",
       "      <td>0.034268</td>\n",
       "      <td>0.001158</td>\n",
       "      <td>0.019194</td>\n",
       "      <td>0.028090</td>\n",
       "      <td>-0.005477</td>\n",
       "      <td>0.004081</td>\n",
       "      <td>-0.030344</td>\n",
       "      <td>0.005934</td>\n",
       "      <td>-0.021520</td>\n",
       "    </tr>\n",
       "    <tr>\n",
       "      <th>4</th>\n",
       "      <td>-0.088017</td>\n",
       "      <td>0.862298</td>\n",
       "      <td>3.001488</td>\n",
       "      <td>-0.561116</td>\n",
       "      <td>-4.652737</td>\n",
       "      <td>-1.699318</td>\n",
       "      <td>-5.104434</td>\n",
       "      <td>-6.798224</td>\n",
       "      <td>0.742219</td>\n",
       "      <td>-3.059819</td>\n",
       "      <td>...</td>\n",
       "      <td>-0.009494</td>\n",
       "      <td>-0.009165</td>\n",
       "      <td>-0.004748</td>\n",
       "      <td>-0.011887</td>\n",
       "      <td>-0.006261</td>\n",
       "      <td>0.003886</td>\n",
       "      <td>0.011106</td>\n",
       "      <td>0.005999</td>\n",
       "      <td>0.003352</td>\n",
       "      <td>0.001640</td>\n",
       "    </tr>\n",
       "  </tbody>\n",
       "</table>\n",
       "<p>5 rows × 517 columns</p>\n",
       "</div>"
      ],
      "text/plain": [
       "        0         1         2         3         4         5         6    \\\n",
       "0  1.792990 -5.412255  1.992809 -3.961542 -3.453659  1.112720  4.252270   \n",
       "1 -0.462043 -2.992666  0.684909 -3.392998 -1.336728 -0.253988  2.951924   \n",
       "2  5.594610  1.093078  1.539375 -4.582008 -2.557489 -1.068273  3.426519   \n",
       "3 -1.108521 -6.567402  0.428488 -2.612483 -1.900859 -2.273907  3.778960   \n",
       "4 -0.088017  0.862298  3.001488 -0.561116 -4.652737 -1.699318 -5.104434   \n",
       "\n",
       "        7         8         9      ...          507       508       509  \\\n",
       "0 -1.991935  1.292540 -3.874751    ...     0.046756 -0.032607  0.026091   \n",
       "1  1.635095 -0.033066 -1.920783    ...     0.018210 -0.032708 -0.019769   \n",
       "2 -1.932583  0.388793 -3.291451    ...     0.008439 -0.004064 -0.010059   \n",
       "3  0.224840 -1.706479  1.106845    ...    -0.001393  0.034268  0.001158   \n",
       "4 -6.798224  0.742219 -3.059819    ...    -0.009494 -0.009165 -0.004748   \n",
       "\n",
       "        510       511       512       513       514       515       516  \n",
       "0 -0.036399  0.024107 -0.000511 -0.000086 -0.036036 -0.001703  0.013997  \n",
       "1  0.044533 -0.014387  0.019175 -0.000718 -0.002471  0.004257  0.044541  \n",
       "2  0.012108  0.042610 -0.026021 -0.002903  0.009007 -0.023406  0.025322  \n",
       "3  0.019194  0.028090 -0.005477  0.004081 -0.030344  0.005934 -0.021520  \n",
       "4 -0.011887 -0.006261  0.003886  0.011106  0.005999  0.003352  0.001640  \n",
       "\n",
       "[5 rows x 517 columns]"
      ]
     },
     "execution_count": 54,
     "metadata": {},
     "output_type": "execute_result"
    }
   ],
   "source": [
    "from sklearn.decomposition import PCA\n",
    "\n",
    "dataframe = all_ft\n",
    "array = dataframe.values[1:]\n",
    "X = array[:,:(len(array[0])-1)]\n",
    "Y = array[:,(len(array[0])-1)]\n",
    "\n",
    "\n",
    "pca = PCA(n_components='mle',svd_solver = 'full')\n",
    "principalComponents = pca.fit_transform(X)\n",
    "principalDf = pd.DataFrame(data = principalComponents)\n",
    "principalDf.head()"
   ]
  },
  {
   "cell_type": "code",
   "execution_count": 59,
   "metadata": {},
   "outputs": [
    {
     "data": {
      "text/plain": [
       "[<matplotlib.lines.Line2D at 0x12c123f28>]"
      ]
     },
     "execution_count": 59,
     "metadata": {},
     "output_type": "execute_result"
    },
    {
     "data": {
      "image/png": "[encoded data removed]",
      "text/plain": [
       "<Figure size 432x288 with 1 Axes>"
      ]
     },
     "metadata": {
      "needs_background": "light"
     },
     "output_type": "display_data"
    }
   ],
   "source": [
    "X = principalComponents\n",
    "seed = 7\n",
    "num_trees = 10\n",
    "max_features = len(X[0])-1\n",
    "tests=[]\n",
    "kfold = model_selection.KFold(n_splits=10, random_state=seed)\n",
    "for i in range(14):\n",
    "    model = ExtraTreesClassifier(n_estimators=num_trees, max_features=max_features)\n",
    "    results = model_selection.cross_val_score(model, X, Y, cv=kfold)\n",
    "    tests.append(results.mean())\n",
    "    num_trees+=10\n",
    "plt.plot(tests)"
   ]
  },
  {
   "cell_type": "code",
   "execution_count": 60,
   "metadata": {},
   "outputs": [
    {
     "data": {
      "image/png": "[encoded data removed]",
      "text/plain": [
       "<Figure size 432x288 with 1 Axes>"
      ]
     },
     "metadata": {
      "needs_background": "light"
     },
     "output_type": "display_data"
    },
    {
     "name": "stdout",
     "output_type": "stream",
     "text": [
      "Mean accuracy for PCA features, 140 estimators and 10 folds :  0.5738288381144099\n"
     ]
    }
   ],
   "source": [
    "a=list(range(10,150,10))\n",
    "plt.plot(a,tests)\n",
    "plt.ylabel('accuracy')\n",
    "plt.xlabel('n_estimators')\n",
    "plt.xlim(10,150)\n",
    "plt.title('Extra Trees Classification with PCA features')\n",
    "plt.show()\n",
    "print(\"Mean accuracy for PCA features, 140 estimators and 10 folds : \",results.mean())"
   ]
  },
  {
   "cell_type": "code",
   "execution_count": 64,
   "metadata": {},
   "outputs": [
    {
     "data": {
      "text/html": [
       "<div>\n",
       "<style scoped>\n",
       "    .dataframe tbody tr th:only-of-type {\n",
       "        vertical-align: middle;\n",
       "    }\n",
       "\n",
       "    .dataframe tbody tr th {\n",
       "        vertical-align: top;\n",
       "    }\n",
       "\n",
       "    .dataframe thead th {\n",
       "        text-align: right;\n",
       "    }\n",
       "</style>\n",
       "<table border=\"1\" class=\"dataframe\">\n",
       "  <thead>\n",
       "    <tr style=\"text-align: right;\">\n",
       "      <th></th>\n",
       "      <th>0</th>\n",
       "      <th>1</th>\n",
       "      <th>2</th>\n",
       "      <th>3</th>\n",
       "      <th>4</th>\n",
       "      <th>5</th>\n",
       "      <th>6</th>\n",
       "      <th>7</th>\n",
       "      <th>8</th>\n",
       "      <th>9</th>\n",
       "      <th>...</th>\n",
       "      <th>90</th>\n",
       "      <th>91</th>\n",
       "      <th>92</th>\n",
       "      <th>93</th>\n",
       "      <th>94</th>\n",
       "      <th>95</th>\n",
       "      <th>96</th>\n",
       "      <th>97</th>\n",
       "      <th>98</th>\n",
       "      <th>99</th>\n",
       "    </tr>\n",
       "  </thead>\n",
       "  <tbody>\n",
       "    <tr>\n",
       "      <th>0</th>\n",
       "      <td>1.792990</td>\n",
       "      <td>-5.412255</td>\n",
       "      <td>1.992810</td>\n",
       "      <td>-3.961543</td>\n",
       "      <td>-3.453659</td>\n",
       "      <td>1.112724</td>\n",
       "      <td>4.252265</td>\n",
       "      <td>-1.991936</td>\n",
       "      <td>1.292545</td>\n",
       "      <td>-3.874751</td>\n",
       "      <td>...</td>\n",
       "      <td>-0.161686</td>\n",
       "      <td>-0.474267</td>\n",
       "      <td>-0.476279</td>\n",
       "      <td>0.059136</td>\n",
       "      <td>-1.216076</td>\n",
       "      <td>0.408938</td>\n",
       "      <td>0.459286</td>\n",
       "      <td>-0.919398</td>\n",
       "      <td>0.719471</td>\n",
       "      <td>0.226610</td>\n",
       "    </tr>\n",
       "    <tr>\n",
       "      <th>1</th>\n",
       "      <td>-0.462043</td>\n",
       "      <td>-2.992666</td>\n",
       "      <td>0.684907</td>\n",
       "      <td>-3.392998</td>\n",
       "      <td>-1.336725</td>\n",
       "      <td>-0.253988</td>\n",
       "      <td>2.951942</td>\n",
       "      <td>1.635095</td>\n",
       "      <td>-0.033069</td>\n",
       "      <td>-1.920804</td>\n",
       "      <td>...</td>\n",
       "      <td>-0.565594</td>\n",
       "      <td>-0.839367</td>\n",
       "      <td>0.722175</td>\n",
       "      <td>-0.703855</td>\n",
       "      <td>-0.076665</td>\n",
       "      <td>0.182747</td>\n",
       "      <td>-0.781309</td>\n",
       "      <td>-0.927638</td>\n",
       "      <td>0.953567</td>\n",
       "      <td>1.042826</td>\n",
       "    </tr>\n",
       "    <tr>\n",
       "      <th>2</th>\n",
       "      <td>5.594610</td>\n",
       "      <td>1.093078</td>\n",
       "      <td>1.539376</td>\n",
       "      <td>-4.582008</td>\n",
       "      <td>-2.557493</td>\n",
       "      <td>-1.068280</td>\n",
       "      <td>3.426508</td>\n",
       "      <td>-1.932580</td>\n",
       "      <td>0.388778</td>\n",
       "      <td>-3.291446</td>\n",
       "      <td>...</td>\n",
       "      <td>1.113278</td>\n",
       "      <td>-1.051341</td>\n",
       "      <td>-0.270119</td>\n",
       "      <td>0.115657</td>\n",
       "      <td>0.651664</td>\n",
       "      <td>1.231341</td>\n",
       "      <td>1.879286</td>\n",
       "      <td>0.075836</td>\n",
       "      <td>0.597076</td>\n",
       "      <td>-0.390482</td>\n",
       "    </tr>\n",
       "    <tr>\n",
       "      <th>3</th>\n",
       "      <td>-1.108521</td>\n",
       "      <td>-6.567401</td>\n",
       "      <td>0.428488</td>\n",
       "      <td>-2.612484</td>\n",
       "      <td>-1.900861</td>\n",
       "      <td>-2.273907</td>\n",
       "      <td>3.778945</td>\n",
       "      <td>0.224838</td>\n",
       "      <td>-1.706484</td>\n",
       "      <td>1.106845</td>\n",
       "      <td>...</td>\n",
       "      <td>-0.193426</td>\n",
       "      <td>0.449706</td>\n",
       "      <td>0.200670</td>\n",
       "      <td>-0.230613</td>\n",
       "      <td>0.402713</td>\n",
       "      <td>-0.344325</td>\n",
       "      <td>0.838244</td>\n",
       "      <td>0.642045</td>\n",
       "      <td>-0.308920</td>\n",
       "      <td>-1.404867</td>\n",
       "    </tr>\n",
       "    <tr>\n",
       "      <th>4</th>\n",
       "      <td>-0.088017</td>\n",
       "      <td>0.862298</td>\n",
       "      <td>3.001487</td>\n",
       "      <td>-0.561116</td>\n",
       "      <td>-4.652735</td>\n",
       "      <td>-1.699318</td>\n",
       "      <td>-5.104425</td>\n",
       "      <td>-6.798230</td>\n",
       "      <td>0.742213</td>\n",
       "      <td>-3.059820</td>\n",
       "      <td>...</td>\n",
       "      <td>-0.562920</td>\n",
       "      <td>-0.260282</td>\n",
       "      <td>0.447399</td>\n",
       "      <td>-0.313062</td>\n",
       "      <td>-0.244426</td>\n",
       "      <td>0.342186</td>\n",
       "      <td>-0.408019</td>\n",
       "      <td>0.834190</td>\n",
       "      <td>0.990014</td>\n",
       "      <td>-0.247159</td>\n",
       "    </tr>\n",
       "  </tbody>\n",
       "</table>\n",
       "<p>5 rows × 100 columns</p>\n",
       "</div>"
      ],
      "text/plain": [
       "         0         1         2         3         4         5         6   \\\n",
       "0  1.792990 -5.412255  1.992810 -3.961543 -3.453659  1.112724  4.252265   \n",
       "1 -0.462043 -2.992666  0.684907 -3.392998 -1.336725 -0.253988  2.951942   \n",
       "2  5.594610  1.093078  1.539376 -4.582008 -2.557493 -1.068280  3.426508   \n",
       "3 -1.108521 -6.567401  0.428488 -2.612484 -1.900861 -2.273907  3.778945   \n",
       "4 -0.088017  0.862298  3.001487 -0.561116 -4.652735 -1.699318 -5.104425   \n",
       "\n",
       "         7         8         9     ...           90        91        92  \\\n",
       "0 -1.991936  1.292545 -3.874751    ...    -0.161686 -0.474267 -0.476279   \n",
       "1  1.635095 -0.033069 -1.920804    ...    -0.565594 -0.839367  0.722175   \n",
       "2 -1.932580  0.388778 -3.291446    ...     1.113278 -1.051341 -0.270119   \n",
       "3  0.224838 -1.706484  1.106845    ...    -0.193426  0.449706  0.200670   \n",
       "4 -6.798230  0.742213 -3.059820    ...    -0.562920 -0.260282  0.447399   \n",
       "\n",
       "         93        94        95        96        97        98        99  \n",
       "0  0.059136 -1.216076  0.408938  0.459286 -0.919398  0.719471  0.226610  \n",
       "1 -0.703855 -0.076665  0.182747 -0.781309 -0.927638  0.953567  1.042826  \n",
       "2  0.115657  0.651664  1.231341  1.879286  0.075836  0.597076 -0.390482  \n",
       "3 -0.230613  0.402713 -0.344325  0.838244  0.642045 -0.308920 -1.404867  \n",
       "4 -0.313062 -0.244426  0.342186 -0.408019  0.834190  0.990014 -0.247159  \n",
       "\n",
       "[5 rows x 100 columns]"
      ]
     },
     "execution_count": 64,
     "metadata": {},
     "output_type": "execute_result"
    }
   ],
   "source": [
    "pca = PCA(n_components=100)\n",
    "principalComponents100 = pca.fit_transform(X)\n",
    "principalDf100 = pd.DataFrame(data = principalComponents100)\n",
    "principalDf100.head()"
   ]
  },
  {
   "cell_type": "code",
   "execution_count": 70,
   "metadata": {},
   "outputs": [
    {
     "data": {
      "text/plain": [
       "[<matplotlib.lines.Line2D at 0x1121796d8>]"
      ]
     },
     "execution_count": 70,
     "metadata": {},
     "output_type": "execute_result"
    },
    {
     "data": {
      "image/png": "[encoded data removed]",
      "text/plain": [
       "<Figure size 432x288 with 1 Axes>"
      ]
     },
     "metadata": {
      "needs_background": "light"
     },
     "output_type": "display_data"
    }
   ],
   "source": [
    "X = principalComponents100\n",
    "seed = 7\n",
    "num_trees = 10\n",
    "max_features = len(X[0])-1\n",
    "tests=[]\n",
    "kfold = model_selection.KFold(n_splits=10, random_state=seed)\n",
    "for i in range(14):\n",
    "    model = ExtraTreesClassifier(n_estimators=num_trees, max_features=max_features)\n",
    "    results = model_selection.cross_val_score(model, X, Y, cv=kfold)\n",
    "    tests.append(results.mean())\n",
    "    num_trees+=10\n",
    "plt.plot(tests)"
   ]
  },
  {
   "cell_type": "code",
   "execution_count": 73,
   "metadata": {},
   "outputs": [
    {
     "data": {
      "image/png": "[encoded data removed]",
      "text/plain": [
       "<Figure size 432x288 with 1 Axes>"
      ]
     },
     "metadata": {
      "needs_background": "light"
     },
     "output_type": "display_data"
    },
    {
     "name": "stdout",
     "output_type": "stream",
     "text": [
      "Mean accuracy for 100 PCA features, 140 estimators and 10 folds :  0.5881721571407896\n"
     ]
    }
   ],
   "source": [
    "a=list(range(10,150,10))\n",
    "plt.plot(a,tests)\n",
    "plt.ylabel('accuracy')\n",
    "plt.xlabel('n_estimators')\n",
    "plt.xlim(10,150)\n",
    "plt.title('Extra Trees Classification with 100 PCA features')\n",
    "plt.show()\n",
    "print(\"Mean accuracy for 100 PCA features, 140 estimators and 10 folds : \",results.mean())"
   ]
  },
  {
   "cell_type": "code",
   "execution_count": null,
   "metadata": {},
   "outputs": [],
   "source": []
  }
 ],
 "metadata": {
  "kernelspec": {
   "display_name": "Python 3",
   "language": "python",
   "name": "python3"
  }
 },
 "nbformat": 4,
 "nbformat_minor": 2
}
