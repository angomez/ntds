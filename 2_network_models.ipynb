{
 "cells": [
  {
   "cell_type": "markdown",
   "metadata": {},
   "source": [
    "# [NTDS'18] milestone 2: network models\n",
    "[ntds'18]: https://github.com/mdeff/ntds_2018\n",
    "\n",
    "[Hermina Petric Maretic](https://people.epfl.ch/hermina.petricmaretic), [EPFL LTS4](https://lts4.epfl.ch)"
   ]
  },
  {
   "cell_type": "markdown",
   "metadata": {},
   "source": [
    "## Students\n",
    "\n",
    "* Team: `11`\n",
    "* Students: `Hajri, Mortiniera, Gomez, Wagner`\n",
    "* Dataset: `FMA free music archive`"
   ]
  },
  {
   "cell_type": "markdown",
   "metadata": {},
   "source": [
    "## Rules\n",
    "\n",
    "* Milestones have to be completed by teams. No collaboration between teams is allowed.\n",
    "* Textual answers shall be short. Typically one to two sentences.\n",
    "* Code has to be clean.\n",
    "* In the first part, you cannot import any other library than we imported. In the second part, you are allowed to import any library you want.\n",
    "* When submitting, the notebook is executed and the results are stored. I.e., if you open the notebook again it should show numerical results and plots. We won't be able to execute your notebooks.\n",
    "* The notebook is re-executed from a blank state before submission. That is to be sure it is reproducible. You can click \"Kernel\" then \"Restart & Run All\" in Jupyter."
   ]
  },
  {
   "cell_type": "markdown",
   "metadata": {},
   "source": [
    "## Objective\n",
    "\n",
    "The purpose of this milestone is to explore various random network models, analyse their properties and compare them to your network. In the first part of the milestone you will implement two random graph models and try to fit them to your network. In this part you are not allowed to use any additional package. In the second part of the milestone you will choose a third random graph model that you think shares some properties with your network. You will be allowed to use additional packages to construct this network, but you must explain your network choice. Finally, make your code as clean as possible, and keep your textual answers short."
   ]
  },
  {
   "cell_type": "markdown",
   "metadata": {},
   "source": [
    "## Part 0\n",
    "\n",
    "Import the adjacency matrix of your graph that you constructed in milestone 1, as well as the number of nodes and edges of your network."
   ]
  },
  {
   "cell_type": "code",
   "execution_count": 1,
   "metadata": {},
   "outputs": [],
   "source": [
    "import numpy as np"
   ]
  },
  {
   "cell_type": "code",
   "execution_count": 2,
   "metadata": {},
   "outputs": [],
   "source": [
    "adjacency = np.load(\"./symmetrized_matrix08.npy\")\n",
    "n_nodes =  adjacency.shape[0]\n",
    "n_edges =  np.count_nonzero(adjacency)\n",
    "n_edges = int(n_edges/2) #to get undirected graph edge number"
   ]
  },
  {
   "cell_type": "code",
   "execution_count": 3,
   "metadata": {},
   "outputs": [
    {
     "name": "stdout",
     "output_type": "stream",
     "text": [
      "2204 28637\n"
     ]
    }
   ],
   "source": [
    "print(n_nodes, n_edges)"
   ]
  },
  {
   "cell_type": "markdown",
   "metadata": {},
   "source": [
    "## Part 1\n",
    "\n",
    "**For the computation of this part of the milestone you are only allowed to use the packages that have been imported in the cell below.**"
   ]
  },
  {
   "cell_type": "code",
   "execution_count": 4,
   "metadata": {},
   "outputs": [],
   "source": [
    "%matplotlib inline\n",
    "\n",
    "import random\n",
    "\n",
    "import numpy as np\n",
    "import pandas as pd\n",
    "import matplotlib.pyplot as plt\n",
    "import scipy"
   ]
  },
  {
   "cell_type": "markdown",
   "metadata": {},
   "source": [
    "### Question 1\n",
    "\n",
    "Create a function that constructs an Erdős–Rényi graph."
   ]
  },
  {
   "cell_type": "code",
   "execution_count": 5,
   "metadata": {},
   "outputs": [],
   "source": [
    "def erdos_renyi(n, p, seed=None):\n",
    "    \"\"\"Create an instance from the Erdos-Renyi graph model.\n",
    "    \n",
    "    Parameters\n",
    "    ----------\n",
    "    n: int\n",
    "        Size of the graph.\n",
    "    p: float\n",
    "        Edge probability. A number between 0 and 1.\n",
    "    seed: int (optional)\n",
    "        Seed for the random number generator. To get reproducible results.\n",
    "    \n",
    "    Returns\n",
    "    -------\n",
    "    adjacency\n",
    "        The adjacency matrix of a graph.\n",
    "    \"\"\"\n",
    "    \n",
    "    k = 0\n",
    "    l = 0 \n",
    "    i = 0\n",
    "    j = 0\n",
    "    random.seed(seed)\n",
    "    A = np.zeros((n,n))\n",
    "    for k in range(n):\n",
    "        for l in range(k,n):\n",
    "            A[k,l]=random.uniform(0, 1)\n",
    "            A[l,k]=A[i,j]\n",
    "            \n",
    "    for i in range(n):\n",
    "        for j in range(i, n):\n",
    "            if(A[i,j] <= p):\n",
    "                A[i,j] = 1\n",
    "                A[j,i] = 1\n",
    "            else : \n",
    "                A[i,j] = 0\n",
    "                A[j,i] = 0\n",
    "    \n",
    "    return A"
   ]
  },
  {
   "cell_type": "code",
   "execution_count": 6,
   "metadata": {},
   "outputs": [
    {
     "data": {
      "text/plain": [
       "Text(0.5, 1.05, 'Erdos-Renyi (5, 0.6)')"
      ]
     },
     "execution_count": 6,
     "metadata": {},
     "output_type": "execute_result"
    },
    {
     "data": {
      "image/png": "[encoded data removed]",
      "text/plain": [
       "<Figure size 432x288 with 1 Axes>"
      ]
     },
     "metadata": {},
     "output_type": "display_data"
    }
   ],
   "source": [
    "er = erdos_renyi(5, 0.6, 9765)\n",
    "plt.spy(er)\n",
    "plt.title('Erdos-Renyi (5, 0.6)')"
   ]
  },
  {
   "cell_type": "code",
   "execution_count": 7,
   "metadata": {},
   "outputs": [
    {
     "data": {
      "text/plain": [
       "Text(0.5, 1.05, 'Erdos-Renyi (10, 0.4)')"
      ]
     },
     "execution_count": 7,
     "metadata": {},
     "output_type": "execute_result"
    },
    {
     "data": {
      "image/png": "[encoded data removed]",
      "text/plain": [
       "<Figure size 432x288 with 1 Axes>"
      ]
     },
     "metadata": {},
     "output_type": "display_data"
    }
   ],
   "source": [
    "er = erdos_renyi(10, 0.4, 7648)\n",
    "plt.spy(er)\n",
    "plt.title('Erdos-Renyi (10, 0.4)')"
   ]
  },
  {
   "cell_type": "markdown",
   "metadata": {},
   "source": [
    "### Question 2\n",
    "\n",
    "Use the function to create a random Erdos-Renyi graph. Choose the parameters such that number of nodes is the same as in your graph, and the number of edges similar. You don't need to set the random seed. Comment on your choice of parameters."
   ]
  },
  {
   "cell_type": "code",
   "execution_count": 8,
   "metadata": {},
   "outputs": [],
   "source": [
    "# Your code here.\n",
    "p = (2*n_edges)/(n_nodes*(n_nodes+1))\n",
    "ER = erdos_renyi(n_nodes,p)"
   ]
  },
  {
   "cell_type": "code",
   "execution_count": 9,
   "metadata": {},
   "outputs": [
    {
     "data": {
      "text/plain": [
       "<matplotlib.image.AxesImage at 0x15b40846240>"
      ]
     },
     "execution_count": 9,
     "metadata": {},
     "output_type": "execute_result"
    },
    {
     "data": {
      "image/png": "[encoded data removed]",
      "text/plain": [
       "<Figure size 432x288 with 1 Axes>"
      ]
     },
     "metadata": {},
     "output_type": "display_data"
    }
   ],
   "source": [
    "plt.spy(ER)"
   ]
  },
  {
   "cell_type": "markdown",
   "metadata": {},
   "source": [
    "**Your answer here.**\n",
    "We know that the expected number of links in a G(n,p) network is : <L> = p*(n*(n+1)/2). So by replacing <L> by the number of edges of our network and taking the resulting p, we can create a random graph that approximate our network."
   ]
  },
  {
   "cell_type": "markdown",
   "metadata": {},
   "source": [
    "### Question 3\n",
    "\n",
    "Create a function that constructs a Barabási-Albert graph."
   ]
  },
  {
   "cell_type": "code",
   "execution_count": 10,
   "metadata": {},
   "outputs": [],
   "source": [
    "def barabasi_albert(n, m, m0=2, seed=None):\n",
    "    \"\"\"Create an instance from the Barabasi-Albert graph model.\n",
    "    \n",
    "    Parameters\n",
    "    ----------\n",
    "    n: int\n",
    "        Size of the graph.\n",
    "    m: int\n",
    "        Number of edges to attach from a new node to existing nodes.\n",
    "    m0: int (optional)\n",
    "        Number of nodes for the inital connected network.\n",
    "    seed: int (optional)\n",
    "        Seed for the random number generator. To get reproducible results.\n",
    "    \n",
    "    Returns\n",
    "    -------\n",
    "    adjacency\n",
    "        The adjacency matrix of a graph.\n",
    "    \"\"\"\n",
    "    \n",
    "    if(m0<m) : m0=m\n",
    "    \n",
    "    adjacency = np.zeros([n,n])\n",
    "    #set initial set edges arbitrarily\n",
    "    for i in range(0,m0):\n",
    "        #ensure connectivity\n",
    "        adjacency[i][(i+1)%m0]=1\n",
    "        adjacency[(i+1)%m0][i]=1\n",
    "        random.seed(seed)\n",
    "        node = np.floor(random.random()*m0)\n",
    "        while(node==i): node = np.floor(random.random()*m0)\n",
    "        adjacency[i][int(node)%m0]=1\n",
    "        adjacency[int(node)%m0][i]=1\n",
    "        \n",
    "    #add edges for every new node following the model\n",
    "        \n",
    "    for i in range(m0,n):\n",
    "        degrees_cumul = np.zeros(i)\n",
    "        degrees_cumul[0] = (np.count_nonzero(adjacency[0]))\n",
    "        for j in range(1,i):\n",
    "            degrees_cumul[j] = (np.count_nonzero(adjacency[j]))+(degrees_cumul[j-1])\n",
    "        current_m = 0\n",
    "        \n",
    "        random.seed(seed)\n",
    "        rand = [random.random() for _ in range(m)]\n",
    "        rand = (np.dot(rand,int(degrees_cumul[len(degrees_cumul)-1])))\n",
    "        \n",
    "        for j in rand:\n",
    "            if(j<=degrees_cumul[0] and (adjacency[i][0] == 1 or adjacency[0][i] == 1 )):\n",
    "                a = int(np.floor(random.random()*i))\n",
    "                while(adjacency[i][a]==1 or adjacency[a][i]==1):\n",
    "                    a = int(np.floor(random.random()*i))\n",
    "                adjacency[i][a] = 1\n",
    "                adjacency[a][i] = 1\n",
    "            elif(j<=degrees_cumul[0]):\n",
    "                adjacency[i][0] = 1\n",
    "                adjacency[0][i] = 1\n",
    "            for k in range(1,len(degrees_cumul)):\n",
    "                if(j>degrees_cumul[k-1] and j<=degrees_cumul[k] and (adjacency[i][k] == 1 or adjacency[k][i]==1)):\n",
    "                    a = int(np.floor(random.random()*i))\n",
    "                    while(adjacency[i][a]==1 or adjacency[a][i]==1):\n",
    "                        a = int(np.floor(random.random()*i))\n",
    "                    adjacency[i][a] = 1\n",
    "                    adjacency[a][i] = 1\n",
    "                    break\n",
    "                elif(j>degrees_cumul[k-1] and j<=degrees_cumul[k]):\n",
    "                    adjacency[i][k] = 1\n",
    "                    adjacency[k][i] = 1\n",
    "                    break\n",
    "    return adjacency"
   ]
  },
  {
   "cell_type": "code",
   "execution_count": 11,
   "metadata": {},
   "outputs": [
    {
     "data": {
      "text/plain": [
       "Text(0.5, 1.05, 'Barabasi-Albert (5, 1)')"
      ]
     },
     "execution_count": 11,
     "metadata": {},
     "output_type": "execute_result"
    },
    {
     "data": {
      "image/png": "[encoded data removed]",
      "text/plain": [
       "<Figure size 432x288 with 1 Axes>"
      ]
     },
     "metadata": {},
     "output_type": "display_data"
    }
   ],
   "source": [
    "ba = barabasi_albert(5, 1, 2, 9087)\n",
    "plt.spy(ba)\n",
    "plt.title('Barabasi-Albert (5, 1)')"
   ]
  },
  {
   "cell_type": "code",
   "execution_count": 12,
   "metadata": {
    "scrolled": true
   },
   "outputs": [
    {
     "data": {
      "text/plain": [
       "Text(0.5, 1.05, 'Barabasi-Albert (10, 2)')"
      ]
     },
     "execution_count": 12,
     "metadata": {},
     "output_type": "execute_result"
    },
    {
     "data": {
      "image/png": "[encoded data removed]",
      "text/plain": [
       "<Figure size 432x288 with 1 Axes>"
      ]
     },
     "metadata": {},
     "output_type": "display_data"
    }
   ],
   "source": [
    "ba = barabasi_albert(10, 2, 3, 8708)\n",
    "plt.spy(ba)\n",
    "plt.title('Barabasi-Albert (10, 2)')"
   ]
  },
  {
   "cell_type": "markdown",
   "metadata": {},
   "source": [
    "### Question 4\n",
    "\n",
    "Use the function to create a random Barabási-Albert graph. Choose the parameters such that number of nodes is the same as in your graph, and the number of edges similar. You don't need to set the random seed. Comment on your choice of parameters."
   ]
  },
  {
   "cell_type": "code",
   "execution_count": 13,
   "metadata": {},
   "outputs": [
    {
     "name": "stdout",
     "output_type": "stream",
     "text": [
      "28506.0  edges\n"
     ]
    },
    {
     "data": {
      "text/plain": [
       "Text(0.5, 1.05, 'Barabasi-Albert (2204, 13, 2)')"
      ]
     },
     "execution_count": 13,
     "metadata": {},
     "output_type": "execute_result"
    },
    {
     "data": {
      "image/png": "[encoded data removed]",
      "text/plain": [
       "<Figure size 432x288 with 1 Axes>"
      ]
     },
     "metadata": {},
     "output_type": "display_data"
    }
   ],
   "source": [
    "# Your code here.\n",
    "#we need to have m0 > m\n",
    "ba = barabasi_albert(n_nodes, 13, 2)\n",
    "n_edges_ba = np.count_nonzero(ba)\n",
    "print(n_edges_ba/2,' edges')\n",
    "plt.spy(ba)\n",
    "plt.title('Barabasi-Albert (2204, 13, 2)')"
   ]
  },
  {
   "cell_type": "code",
   "execution_count": 14,
   "metadata": {},
   "outputs": [
    {
     "data": {
      "text/plain": [
       "2204"
      ]
     },
     "execution_count": 14,
     "metadata": {},
     "output_type": "execute_result"
    },
    {
     "data": {
      "image/png": "[encoded data removed]",
      "text/plain": [
       "<Figure size 432x288 with 1 Axes>"
      ]
     },
     "metadata": {},
     "output_type": "display_data"
    }
   ],
   "source": [
    "plt.spy(adjacency)\n",
    "plt.title('Our Matrix')\n",
    "n_nodes"
   ]
  },
  {
   "cell_type": "markdown",
   "metadata": {},
   "source": [
    "**Your answer here**\n",
    "The network has N = t+m0 nodes and m*t+m0 edges. Hence w choose m0 = 2 and m = 13 as (2204-2)*13+2 = 28628 edges as in our network."
   ]
  },
  {
   "cell_type": "markdown",
   "metadata": {},
   "source": [
    "### Question 5\n",
    "\n",
    "Compare the number of edges in all three networks (your real network, the Erdős–Rényi network, and the Barabási-Albert netowk)."
   ]
  },
  {
   "cell_type": "code",
   "execution_count": 18,
   "metadata": {},
   "outputs": [
    {
     "name": "stdout",
     "output_type": "stream",
     "text": [
      "number of edges for : barabasi = 28506, erdos-renyi = 28666, our network = 28637\n"
     ]
    }
   ],
   "source": [
    "print('number of edges for : barabasi = {}, erdos-renyi = {}, our network = {}'.format(int(ba.sum()/2), int(ER.sum()/2), n_edges))"
   ]
  },
  {
   "cell_type": "markdown",
   "metadata": {},
   "source": [
    "### Question 6\n",
    "\n",
    "Implement a function that computes the [Kullback–Leibler (KL) divergence](https://en.wikipedia.org/wiki/Kullback%E2%80%93Leibler_divergence) between two probability distributions.\n",
    "We'll use it to compare the degree distributions of networks."
   ]
  },
  {
   "cell_type": "code",
   "execution_count": 19,
   "metadata": {},
   "outputs": [],
   "source": [
    "def kl_divergence(p, q):\n",
    "    \"\"\"Compute the KL divergence between probability distributions of degrees of two networks.\n",
    "    \n",
    "    Parameters\n",
    "    ----------\n",
    "    p: np.array\n",
    "        Probability distribution of degrees of the 1st graph.\n",
    "    q: np.array\n",
    "        Probability distribution of degrees of the 2nd graph.\n",
    "    \n",
    "    Returns\n",
    "    -------\n",
    "    kl\n",
    "        The KL divergence between the two distributions.\n",
    "    \"\"\"\n",
    "    \n",
    "    # Your code here.\n",
    "    kl = 0\n",
    "    for i in range(len(p)) :\n",
    "        if(p[i] != 0) :\n",
    "            if(q[i] != 0) :\n",
    "                kl += p[i]*np.log(p[i]/q[i])\n",
    "    \n",
    "    return kl"
   ]
  },
  {
   "cell_type": "code",
   "execution_count": 20,
   "metadata": {},
   "outputs": [
    {
     "data": {
      "text/plain": [
       "0.09151622184943575"
      ]
     },
     "execution_count": 20,
     "metadata": {},
     "output_type": "execute_result"
    }
   ],
   "source": [
    "p_test = np.array([0.2, 0.2, 0.2, 0.4, 0, 0.7, 0])\n",
    "q_test = np.array([0.3, 0.3, 0.1, 0.3, 0.5, 0, 0])\n",
    "kl_divergence(p_test, q_test)"
   ]
  },
  {
   "cell_type": "markdown",
   "metadata": {},
   "source": [
    "### Question 7: \n",
    "\n",
    "Compare the degree distribution of your network to each of the two synthetic ones, in terms of KL divergence.\n",
    "\n",
    "**Hint:** Make sure you normalise your degree distributions to make them valid probability distributions.\n",
    "\n",
    "**Hint:** Make sure none of the graphs have disconnected nodes, as KL divergence will not be defined in that case. If that happens with one of the randomly generated networks, you can regenerate it and keep the seed that gives you no disconnected nodes."
   ]
  },
  {
   "cell_type": "code",
   "execution_count": 21,
   "metadata": {},
   "outputs": [],
   "source": [
    "# Your code here.\n",
    "def create_degree_distribution(p): # we only work with connected graphs here\n",
    "    dist = np.zeros(len(p))\n",
    "    for i in range(len(p)):\n",
    "        #deg = int(np.sum(p[i]))\n",
    "        deg = int(np.sum(p[i])) - 1\n",
    "        if deg == 0: #if we have a disconnected vertice we abort\n",
    "            print(\"a vertice is disconnected --> error\")\n",
    "            return -1\n",
    "        #dist[deg-1] += 1\n",
    "        dist[i] = deg\n",
    "    return dist\n",
    "def degree_to_plot(p): #the degree for each vertice\n",
    "    degree = []\n",
    "    for i in p:\n",
    "        degree.append(np.sum(i))\n",
    "    return degree"
   ]
  },
  {
   "cell_type": "code",
   "execution_count": 22,
   "metadata": {},
   "outputs": [],
   "source": [
    "def compare_degree_distrib(p, q): #matrice a and matrice b need to have the same size\n",
    "    #kl divergence is defined everywhere if p[i] =0 when q[i]=0, otherwise it is not defined\n",
    "    if p.shape != q.shape:\n",
    "        print('different shape graph')\n",
    "        return -1\n",
    "    p_distrib = create_degree_distribution(p)\n",
    "    q_distrib = create_degree_distribution(q)\n",
    "    p_distrib = p_distrib/np.sum(p_distrib)\n",
    "    q_distrib = q_distrib/np.sum(q_distrib)\n",
    "    print(np.sum(q_distrib))\n",
    "    \n",
    "    return kl_divergence(p_distrib, q_distrib)"
   ]
  },
  {
   "cell_type": "code",
   "execution_count": 24,
   "metadata": {},
   "outputs": [
    {
     "name": "stdout",
     "output_type": "stream",
     "text": [
      "1.0\n"
     ]
    },
    {
     "data": {
      "text/plain": [
       "0.29269206590492974"
      ]
     },
     "execution_count": 24,
     "metadata": {},
     "output_type": "execute_result"
    }
   ],
   "source": [
    "compare_degree_distrib(ba, ER)"
   ]
  },
  {
   "cell_type": "markdown",
   "metadata": {},
   "source": [
    "### Question 8\n",
    "\n",
    "Plot the degree distribution historgrams for all three networks. Are they consistent with the KL divergence results? Explain."
   ]
  },
  {
   "cell_type": "code",
   "execution_count": 44,
   "metadata": {
    "scrolled": true
   },
   "outputs": [
    {
     "data": {
      "image/png": "[encoded data removed]",
      "text/plain": [
       "<Figure size 432x288 with 1 Axes>"
      ]
     },
     "metadata": {},
     "output_type": "display_data"
    }
   ],
   "source": [
    "# Your code here.\n",
    "plt.hist(degree_to_plot(ba), bins=100)\n",
    "plt.title('Barabasi graph')\n",
    "plt.xlabel('degree')\n",
    "plt.ylabel('number of nodes')\n",
    "plt.show()"
   ]
  },
  {
   "cell_type": "code",
   "execution_count": 45,
   "metadata": {},
   "outputs": [
    {
     "data": {
      "image/png": "[encoded data removed]",
      "text/plain": [
       "<Figure size 432x288 with 1 Axes>"
      ]
     },
     "metadata": {},
     "output_type": "display_data"
    }
   ],
   "source": [
    "plt.hist(degree_to_plot(ER), bins=30)\n",
    "plt.title('Erdos-Renyi graph')\n",
    "plt.xlabel('degree')\n",
    "plt.ylabel('number of nodes')\n",
    "plt.show()"
   ]
  },
  {
   "cell_type": "code",
   "execution_count": 46,
   "metadata": {
    "scrolled": true
   },
   "outputs": [
    {
     "data": {
      "image/png": "[encoded data removed]",
      "text/plain": [
       "<Figure size 432x288 with 1 Axes>"
      ]
     },
     "metadata": {},
     "output_type": "display_data"
    }
   ],
   "source": [
    "plt.hist(degree_to_plot(adjacency), bins=100)\n",
    "plt.title('Our graph')\n",
    "plt.xlabel('degree')\n",
    "plt.ylabel('number of nodes')\n",
    "plt.show()"
   ]
  },
  {
   "cell_type": "code",
   "execution_count": 47,
   "metadata": {},
   "outputs": [
    {
     "data": {
      "image/png": "[encoded data removed]",
      "text/plain": [
       "<Figure size 432x288 with 1 Axes>"
      ]
     },
     "metadata": {},
     "output_type": "display_data"
    }
   ],
   "source": [
    "plt.hist(degree_to_plot(adjacency), bins=100)\n",
    "plt.title('log log plot of our graph')\n",
    "plt.xlabel('log(degree)')\n",
    "plt.ylabel('log(number of nodes)')\n",
    "plt.loglog()\n",
    "plt.show()"
   ]
  },
  {
   "cell_type": "markdown",
   "metadata": {},
   "source": [
    "**Your answer here.**"
   ]
  },
  {
   "cell_type": "markdown",
   "metadata": {},
   "source": [
    "We can see when looking at above plots, that the degree distribution of Barasi and Erdos-Renyi models are very differents, which was expected since the KL-divergence gave us a result around 27% of difference."
   ]
  },
  {
   "cell_type": "markdown",
   "metadata": {},
   "source": [
    "### Question 9\n",
    "\n",
    "Imagine you got equal degree distributions. Would that guarantee you got the same graph? Explain."
   ]
  },
  {
   "cell_type": "markdown",
   "metadata": {},
   "source": [
    "No, two random graphs that have the same degree distribution are iid. Then, this doesn't necesserly imply that the two graphs are the same, since they are indenpendant."
   ]
  },
  {
   "cell_type": "markdown",
   "metadata": {},
   "source": [
    "## Part 2\n",
    "\n",
    "**You are allowed to use any additional library here (e.g., NetworkX, PyGSP, etc.).** Be careful not to include something here and use it in part 1!"
   ]
  },
  {
   "cell_type": "code",
   "execution_count": 38,
   "metadata": {},
   "outputs": [],
   "source": [
    "import networkx as nx"
   ]
  },
  {
   "cell_type": "markdown",
   "metadata": {},
   "source": [
    "### Question 10\n",
    "\n",
    "Choose a random network model that fits you network well. Explain your choice. \n",
    "\n",
    "**Hint:** Check lecture notes for different network models and their properties. Your choice should be made based on at least one property you'd expect to be similar."
   ]
  },
  {
   "cell_type": "markdown",
   "metadata": {},
   "source": [
    "The degree distribution of our graph seems to follow one of a powerlaw distribution according to the two above plots, which is asymptotic to scale free networks.\n",
    "Hence, we choose to generate our network from networkX using a powerlaw graph generator."
   ]
  },
  {
   "cell_type": "code",
   "execution_count": 40,
   "metadata": {},
   "outputs": [
    {
     "name": "stdout",
     "output_type": "stream",
     "text": [
      "number of edges = 28412\n"
     ]
    }
   ],
   "source": [
    "PW = nx.powerlaw_cluster_graph(2204, 13, 0.8, seed=9764)\n",
    "adj_PW = nx.adjacency_matrix(PW)\n",
    "print('number of edges = {}'.format(int(np.sum(adj_PW)/2)))"
   ]
  },
  {
   "cell_type": "code",
   "execution_count": 48,
   "metadata": {},
   "outputs": [
    {
     "data": {
      "image/png": "[encoded data removed]",
      "text/plain": [
       "<Figure size 432x288 with 1 Axes>"
      ]
     },
     "metadata": {},
     "output_type": "display_data"
    }
   ],
   "source": [
    "plt.hist(degree_to_plot(adj_PW), bins=200)\n",
    "plt.title('Power Law graph')\n",
    "plt.xlabel('degree')\n",
    "plt.ylabel('number of nodes')\n",
    "plt.show()"
   ]
  },
  {
   "cell_type": "code",
   "execution_count": 49,
   "metadata": {
    "scrolled": true
   },
   "outputs": [
    {
     "data": {
      "image/png": "[encoded data removed]",
      "text/plain": [
       "<Figure size 432x288 with 1 Axes>"
      ]
     },
     "metadata": {},
     "output_type": "display_data"
    }
   ],
   "source": [
    "plt.hist(degree_to_plot(adjacency), bins=200)\n",
    "plt.title('Our graph')\n",
    "plt.xlabel('degree')\n",
    "plt.ylabel('number of nodes')\n",
    "plt.show()"
   ]
  },
  {
   "cell_type": "markdown",
   "metadata": {},
   "source": [
    "As we can see, after plotting the two degree distributions (from our network and the one generated by networkX), \n",
    "it seems to be a good choice to choose the powerlaw."
   ]
  },
  {
   "cell_type": "markdown",
   "metadata": {},
   "source": [
    "### Question 11\n",
    "\n",
    "Explain (in short) how the chosen model works."
   ]
  },
  {
   "cell_type": "markdown",
   "metadata": {},
   "source": [
    "This model works as the same scheme with Scale-free network using preferential attachment, where the degree distribution and the clustering degree distribution follows a power-law."
   ]
  },
  {
   "cell_type": "markdown",
   "metadata": {},
   "source": [
    "### Question 12\n",
    "\n",
    "Create a random graph from that model, such that the number of nodes is the same as in your graph."
   ]
  },
  {
   "cell_type": "code",
   "execution_count": 50,
   "metadata": {},
   "outputs": [
    {
     "name": "stdout",
     "output_type": "stream",
     "text": [
      "the number of nodes is 2204, and the number of edges is 28412\n"
     ]
    }
   ],
   "source": [
    "# Your code here.\n",
    "nodes = 2204\n",
    "random_graph_G = nx.powerlaw_cluster_graph(nodes, 13, 0.8, seed=9764)\n",
    "random_graph = nx.adjacency_matrix(random_graph_G)\n",
    "print('the number of nodes is {}, and the number of edges is {}'.format(nodes, int(np.sum(random_graph)/2)))"
   ]
  },
  {
   "cell_type": "markdown",
   "metadata": {},
   "source": [
    "### Question 13\n",
    "\n",
    "Check the properties you expected to be similar, and compare to your network."
   ]
  },
  {
   "cell_type": "markdown",
   "metadata": {
    "collapsed": true
   },
   "source": [
    "As stated above, our common property is the degree distribution."
   ]
  },
  {
   "cell_type": "markdown",
   "metadata": {},
   "source": [
    "Are the results what you expected? Explain."
   ]
  },
  {
   "cell_type": "markdown",
   "metadata": {},
   "source": [
    "**Your answer here.**"
   ]
  },
  {
   "cell_type": "markdown",
   "metadata": {},
   "source": [
    "We expected some of the results but not all. It is perfectly fine for the degree distribution, however, we wanted to use the KL-divergence of a measure of similarity between our generated graph with networkX and the original one, but we have disconnected nodes. But if we change the original model threshold to avoid disconnected nodes, we would add too much noise in the graph and we ended up with a linear degree distribution for which no known model was a good fit."
   ]
  }
 ],
 "metadata": {
  "kernelspec": {
   "display_name": "Python 3",
   "language": "python",
   "name": "python3"
  },
  "language_info": {
   "codemirror_mode": {
    "name": "ipython",
    "version": 3
   },
   "file_extension": ".py",
   "mimetype": "text/x-python",
   "name": "python",
   "nbconvert_exporter": "python",
   "pygments_lexer": "ipython3",
   "version": "3.7.0"
  }
 },
 "nbformat": 4,
 "nbformat_minor": 2
}
